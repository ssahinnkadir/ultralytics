{
  "cells": [
    {
      "cell_type": "markdown",
      "metadata": {
        "id": "t6MPjfT5NrKQ"
      },
      "source": [
        "<div align=\"center\">\n",
        "\n",
        "  <a href=\"https://ultralytics.com/yolov8\" target=\"_blank\">\n",
        "    <img width=\"1024\", src=\"https://raw.githubusercontent.com/ultralytics/assets/main/yolov8/banner-yolov8.png\"></a>\n",
        "\n",
        "\n",
        "<br>\n",
        "  <a href=\"https://console.paperspace.com/github/ultralytics/ultralytics\"><img src=\"https://assets.paperspace.io/img/gradient-badge.svg\" alt=\"Run on Gradient\"/></a>\n",
        "  <a href=\"https://colab.research.google.com/github/ultralytics/ultralytics/blob/main/examples/tutorial.ipynb\"><img src=\"https://colab.research.google.com/assets/colab-badge.svg\" alt=\"Open In Colab\"></a>\n",
        "  <a href=\"https://www.kaggle.com/ultralytics/yolov8\"><img src=\"https://kaggle.com/static/images/open-in-kaggle.svg\" alt=\"Open In Kaggle\"></a>\n",
        "<br>\n",
        "\n",
        "Welcome to the Ultralytics YOLOv8 🚀 notebook! <a href=\"https://github.com/ultralytics/ultralytics\">YOLOv8</a> is the latest version of the YOLO (You Only Look Once) AI models developed by <a href=\"https://ultralytics.com\">Ultralytics</a>. This notebook serves as the starting point for exploring the various resources available to help you get started with YOLOv8 and understand its features and capabilities.\n",
        "\n",
        "YOLOv8 models are fast, accurate, and easy to use, making them ideal for various object detection and image segmentation tasks. They can be trained on large datasets and run on diverse hardware platforms, from CPUs to GPUs.\n",
        "\n",
        "We hope that the resources in this notebook will help you get the most out of YOLOv8. Please browse the YOLOv8 <a href=\"https://docs.ultralytics.com/\">Docs</a> for details, raise an issue on <a href=\"https://github.com/ultralytics/ultralytics\">GitHub</a> for support, and join our <a href=\"https://discord.gg/n6cFeSPZdD\">Discord</a> community for questions and discussions!\n",
        "\n",
        "</div>"
      ]
    },
    {
      "cell_type": "markdown",
      "metadata": {
        "id": "7mGmQbAO5pQb"
      },
      "source": [
        "# Setup\n",
        "\n",
        "Pip install `ultralytics` and [dependencies](https://github.com/ultralytics/ultralytics/blob/main/requirements.txt) and check software and hardware."
      ]
    },
    {
      "cell_type": "code",
      "execution_count": null,
      "metadata": {
        "colab": {
          "base_uri": "https://localhost:8080/"
        },
        "id": "wbvMlHd_QwMG",
        "outputId": "2ea6e0b9-1a62-4355-c246-5e8b7b1dafff"
      },
      "outputs": [
        {
          "name": "stderr",
          "output_type": "stream",
          "text": [
            "Ultralytics YOLOv8.0.71 🚀 Python-3.9.16 torch-2.0.0+cu118 CUDA:0 (Tesla T4, 15102MiB)\n",
            "Setup complete ✅ (2 CPUs, 12.7 GB RAM, 23.3/166.8 GB disk)\n"
          ]
        }
      ],
      "source": [
        "%pip install ultralytics\n",
        "import ultralytics\n",
        "ultralytics.checks()"
      ]
    },
    {
      "cell_type": "code",
      "execution_count": null,
      "metadata": {
        "colab": {
          "base_uri": "https://localhost:8080/"
        },
        "id": "2pGepvNCPVEv",
        "outputId": "d076226e-7e15-4bea-ef1d-11980e1e5367"
      },
      "outputs": [
        {
          "output_type": "stream",
          "name": "stdout",
          "text": [
            "Cloning into 'ultralytics'...\n",
            "remote: Enumerating objects: 11389, done.\u001b[K\n",
            "remote: Counting objects: 100% (1356/1356), done.\u001b[K\n",
            "remote: Compressing objects: 100% (706/706), done.\u001b[K\n",
            "remote: Total 11389 (delta 856), reused 1046 (delta 642), pack-reused 10033\u001b[K\n",
            "Receiving objects: 100% (11389/11389), 6.87 MiB | 23.22 MiB/s, done.\n",
            "Resolving deltas: 100% (7677/7677), done.\n"
          ]
        }
      ],
      "source": [
        "!git clone https://github.com/ultralytics/ultralytics.git"
      ]
    },
    {
      "cell_type": "code",
      "execution_count": null,
      "metadata": {
        "colab": {
          "base_uri": "https://localhost:8080/"
        },
        "id": "Rxot1Je_PaXW",
        "outputId": "982e3755-69c3-4377-ec52-2861173a87ff"
      },
      "outputs": [
        {
          "output_type": "stream",
          "name": "stdout",
          "text": [
            "/content/ultralytics\n"
          ]
        }
      ],
      "source": [
        "cd ultralytics"
      ]
    },
    {
      "cell_type": "code",
      "execution_count": null,
      "metadata": {
        "colab": {
          "base_uri": "https://localhost:8080/"
        },
        "id": "49T0KiUpPdyd",
        "outputId": "7ff3180f-e273-4c83-9662-84abdfb3f731"
      },
      "outputs": [
        {
          "output_type": "stream",
          "name": "stdout",
          "text": [
            "Looking in indexes: https://pypi.org/simple, https://us-python.pkg.dev/colab-wheels/public/simple/\n",
            "Obtaining file:///content/ultralytics\n",
            "  Preparing metadata (setup.py) ... \u001b[?25l\u001b[?25hdone\n",
            "Requirement already satisfied: matplotlib>=3.2.2 in /usr/local/lib/python3.10/dist-packages (from ultralytics==8.0.118) (3.7.1)\n",
            "Requirement already satisfied: opencv-python>=4.6.0 in /usr/local/lib/python3.10/dist-packages (from ultralytics==8.0.118) (4.7.0.72)\n",
            "Requirement already satisfied: Pillow>=7.1.2 in /usr/local/lib/python3.10/dist-packages (from ultralytics==8.0.118) (8.4.0)\n",
            "Requirement already satisfied: PyYAML>=5.3.1 in /usr/local/lib/python3.10/dist-packages (from ultralytics==8.0.118) (6.0)\n",
            "Requirement already satisfied: requests>=2.23.0 in /usr/local/lib/python3.10/dist-packages (from ultralytics==8.0.118) (2.27.1)\n",
            "Requirement already satisfied: scipy>=1.4.1 in /usr/local/lib/python3.10/dist-packages (from ultralytics==8.0.118) (1.10.1)\n",
            "Requirement already satisfied: torch>=1.7.0 in /usr/local/lib/python3.10/dist-packages (from ultralytics==8.0.118) (2.0.1+cu118)\n",
            "Requirement already satisfied: torchvision>=0.8.1 in /usr/local/lib/python3.10/dist-packages (from ultralytics==8.0.118) (0.15.2+cu118)\n",
            "Requirement already satisfied: tqdm>=4.64.0 in /usr/local/lib/python3.10/dist-packages (from ultralytics==8.0.118) (4.65.0)\n",
            "Requirement already satisfied: pandas>=1.1.4 in /usr/local/lib/python3.10/dist-packages (from ultralytics==8.0.118) (1.5.3)\n",
            "Requirement already satisfied: seaborn>=0.11.0 in /usr/local/lib/python3.10/dist-packages (from ultralytics==8.0.118) (0.12.2)\n",
            "Requirement already satisfied: psutil in /usr/local/lib/python3.10/dist-packages (from ultralytics==8.0.118) (5.9.5)\n",
            "Requirement already satisfied: contourpy>=1.0.1 in /usr/local/lib/python3.10/dist-packages (from matplotlib>=3.2.2->ultralytics==8.0.118) (1.0.7)\n",
            "Requirement already satisfied: cycler>=0.10 in /usr/local/lib/python3.10/dist-packages (from matplotlib>=3.2.2->ultralytics==8.0.118) (0.11.0)\n",
            "Requirement already satisfied: fonttools>=4.22.0 in /usr/local/lib/python3.10/dist-packages (from matplotlib>=3.2.2->ultralytics==8.0.118) (4.39.3)\n",
            "Requirement already satisfied: kiwisolver>=1.0.1 in /usr/local/lib/python3.10/dist-packages (from matplotlib>=3.2.2->ultralytics==8.0.118) (1.4.4)\n",
            "Requirement already satisfied: numpy>=1.20 in /usr/local/lib/python3.10/dist-packages (from matplotlib>=3.2.2->ultralytics==8.0.118) (1.22.4)\n",
            "Requirement already satisfied: packaging>=20.0 in /usr/local/lib/python3.10/dist-packages (from matplotlib>=3.2.2->ultralytics==8.0.118) (23.1)\n",
            "Requirement already satisfied: pyparsing>=2.3.1 in /usr/local/lib/python3.10/dist-packages (from matplotlib>=3.2.2->ultralytics==8.0.118) (3.0.9)\n",
            "Requirement already satisfied: python-dateutil>=2.7 in /usr/local/lib/python3.10/dist-packages (from matplotlib>=3.2.2->ultralytics==8.0.118) (2.8.2)\n",
            "Requirement already satisfied: pytz>=2020.1 in /usr/local/lib/python3.10/dist-packages (from pandas>=1.1.4->ultralytics==8.0.118) (2022.7.1)\n",
            "Requirement already satisfied: urllib3<1.27,>=1.21.1 in /usr/local/lib/python3.10/dist-packages (from requests>=2.23.0->ultralytics==8.0.118) (1.26.15)\n",
            "Requirement already satisfied: certifi>=2017.4.17 in /usr/local/lib/python3.10/dist-packages (from requests>=2.23.0->ultralytics==8.0.118) (2022.12.7)\n",
            "Requirement already satisfied: charset-normalizer~=2.0.0 in /usr/local/lib/python3.10/dist-packages (from requests>=2.23.0->ultralytics==8.0.118) (2.0.12)\n",
            "Requirement already satisfied: idna<4,>=2.5 in /usr/local/lib/python3.10/dist-packages (from requests>=2.23.0->ultralytics==8.0.118) (3.4)\n",
            "Requirement already satisfied: filelock in /usr/local/lib/python3.10/dist-packages (from torch>=1.7.0->ultralytics==8.0.118) (3.12.0)\n",
            "Requirement already satisfied: typing-extensions in /usr/local/lib/python3.10/dist-packages (from torch>=1.7.0->ultralytics==8.0.118) (4.5.0)\n",
            "Requirement already satisfied: sympy in /usr/local/lib/python3.10/dist-packages (from torch>=1.7.0->ultralytics==8.0.118) (1.11.1)\n",
            "Requirement already satisfied: networkx in /usr/local/lib/python3.10/dist-packages (from torch>=1.7.0->ultralytics==8.0.118) (3.1)\n",
            "Requirement already satisfied: jinja2 in /usr/local/lib/python3.10/dist-packages (from torch>=1.7.0->ultralytics==8.0.118) (3.1.2)\n",
            "Requirement already satisfied: triton==2.0.0 in /usr/local/lib/python3.10/dist-packages (from torch>=1.7.0->ultralytics==8.0.118) (2.0.0)\n",
            "Requirement already satisfied: cmake in /usr/local/lib/python3.10/dist-packages (from triton==2.0.0->torch>=1.7.0->ultralytics==8.0.118) (3.25.2)\n",
            "Requirement already satisfied: lit in /usr/local/lib/python3.10/dist-packages (from triton==2.0.0->torch>=1.7.0->ultralytics==8.0.118) (16.0.5)\n",
            "Requirement already satisfied: six>=1.5 in /usr/local/lib/python3.10/dist-packages (from python-dateutil>=2.7->matplotlib>=3.2.2->ultralytics==8.0.118) (1.16.0)\n",
            "Requirement already satisfied: MarkupSafe>=2.0 in /usr/local/lib/python3.10/dist-packages (from jinja2->torch>=1.7.0->ultralytics==8.0.118) (2.1.2)\n",
            "Requirement already satisfied: mpmath>=0.19 in /usr/local/lib/python3.10/dist-packages (from sympy->torch>=1.7.0->ultralytics==8.0.118) (1.3.0)\n",
            "Installing collected packages: ultralytics\n",
            "  Running setup.py develop for ultralytics\n",
            "Successfully installed ultralytics-8.0.118\n"
          ]
        }
      ],
      "source": [
        "!pip install -e ."
      ]
    },
    {
      "cell_type": "code",
      "execution_count": null,
      "metadata": {
        "colab": {
          "base_uri": "https://localhost:8080/",
          "height": 1000
        },
        "id": "VHU4Lqa4S8EO",
        "outputId": "eaf76cb7-2dc9-41a1-8983-08f6109a3904"
      },
      "outputs": [
        {
          "output_type": "stream",
          "name": "stdout",
          "text": [
            "Looking in indexes: https://pypi.org/simple, https://us-python.pkg.dev/colab-wheels/public/simple/\n",
            "Collecting roboflow\n",
            "  Downloading roboflow-1.0.9-py3-none-any.whl (56 kB)\n",
            "\u001b[2K     \u001b[90m━━━━━━━━━━━━━━━━━━━━━━━━━━━━━━━━━━━━━━━\u001b[0m \u001b[32m56.3/56.3 kB\u001b[0m \u001b[31m341.3 kB/s\u001b[0m eta \u001b[36m0:00:00\u001b[0m\n",
            "\u001b[?25hRequirement already satisfied: certifi==2022.12.7 in /usr/local/lib/python3.10/dist-packages (from roboflow) (2022.12.7)\n",
            "Requirement already satisfied: chardet==4.0.0 in /usr/local/lib/python3.10/dist-packages (from roboflow) (4.0.0)\n",
            "Collecting cycler==0.10.0 (from roboflow)\n",
            "  Downloading cycler-0.10.0-py2.py3-none-any.whl (6.5 kB)\n",
            "Collecting idna==2.10 (from roboflow)\n",
            "  Downloading idna-2.10-py2.py3-none-any.whl (58 kB)\n",
            "\u001b[2K     \u001b[90m━━━━━━━━━━━━━━━━━━━━━━━━━━━━━━━━━━━━━━━━\u001b[0m \u001b[32m58.8/58.8 kB\u001b[0m \u001b[31m1.8 MB/s\u001b[0m eta \u001b[36m0:00:00\u001b[0m\n",
            "\u001b[?25hRequirement already satisfied: kiwisolver>=1.3.1 in /usr/local/lib/python3.10/dist-packages (from roboflow) (1.4.4)\n",
            "Requirement already satisfied: matplotlib in /usr/local/lib/python3.10/dist-packages (from roboflow) (3.7.1)\n",
            "Requirement already satisfied: numpy>=1.18.5 in /usr/local/lib/python3.10/dist-packages (from roboflow) (1.22.4)\n",
            "Requirement already satisfied: opencv-python>=4.1.2 in /usr/local/lib/python3.10/dist-packages (from roboflow) (4.7.0.72)\n",
            "Requirement already satisfied: Pillow>=7.1.2 in /usr/local/lib/python3.10/dist-packages (from roboflow) (8.4.0)\n",
            "Collecting pyparsing==2.4.7 (from roboflow)\n",
            "  Downloading pyparsing-2.4.7-py2.py3-none-any.whl (67 kB)\n",
            "\u001b[2K     \u001b[90m━━━━━━━━━━━━━━━━━━━━━━━━━━━━━━━━━━━━━━━━\u001b[0m \u001b[32m67.8/67.8 kB\u001b[0m \u001b[31m1.8 MB/s\u001b[0m eta \u001b[36m0:00:00\u001b[0m\n",
            "\u001b[?25hRequirement already satisfied: python-dateutil in /usr/local/lib/python3.10/dist-packages (from roboflow) (2.8.2)\n",
            "Collecting python-dotenv (from roboflow)\n",
            "  Downloading python_dotenv-1.0.0-py3-none-any.whl (19 kB)\n",
            "Requirement already satisfied: requests in /usr/local/lib/python3.10/dist-packages (from roboflow) (2.27.1)\n",
            "Requirement already satisfied: six in /usr/local/lib/python3.10/dist-packages (from roboflow) (1.16.0)\n",
            "Requirement already satisfied: urllib3>=1.26.6 in /usr/local/lib/python3.10/dist-packages (from roboflow) (1.26.15)\n",
            "Collecting wget (from roboflow)\n",
            "  Downloading wget-3.2.zip (10 kB)\n",
            "  Preparing metadata (setup.py) ... \u001b[?25l\u001b[?25hdone\n",
            "Requirement already satisfied: tqdm>=4.41.0 in /usr/local/lib/python3.10/dist-packages (from roboflow) (4.65.0)\n",
            "Requirement already satisfied: PyYAML>=5.3.1 in /usr/local/lib/python3.10/dist-packages (from roboflow) (6.0)\n",
            "Collecting requests-toolbelt (from roboflow)\n",
            "  Downloading requests_toolbelt-1.0.0-py2.py3-none-any.whl (54 kB)\n",
            "\u001b[2K     \u001b[90m━━━━━━━━━━━━━━━━━━━━━━━━━━━━━━━━━━━━━━━━\u001b[0m \u001b[32m54.5/54.5 kB\u001b[0m \u001b[31m2.8 MB/s\u001b[0m eta \u001b[36m0:00:00\u001b[0m\n",
            "\u001b[?25hRequirement already satisfied: contourpy>=1.0.1 in /usr/local/lib/python3.10/dist-packages (from matplotlib->roboflow) (1.0.7)\n",
            "Requirement already satisfied: fonttools>=4.22.0 in /usr/local/lib/python3.10/dist-packages (from matplotlib->roboflow) (4.39.3)\n",
            "Requirement already satisfied: packaging>=20.0 in /usr/local/lib/python3.10/dist-packages (from matplotlib->roboflow) (23.1)\n",
            "Requirement already satisfied: charset-normalizer~=2.0.0 in /usr/local/lib/python3.10/dist-packages (from requests->roboflow) (2.0.12)\n",
            "Building wheels for collected packages: wget\n",
            "  Building wheel for wget (setup.py) ... \u001b[?25l\u001b[?25hdone\n",
            "  Created wheel for wget: filename=wget-3.2-py3-none-any.whl size=9657 sha256=c7a2076a4a34584a3ecfde3039ff3a3af5886455967de356fa138a947fe5034a\n",
            "  Stored in directory: /root/.cache/pip/wheels/8b/f1/7f/5c94f0a7a505ca1c81cd1d9208ae2064675d97582078e6c769\n",
            "Successfully built wget\n",
            "Installing collected packages: wget, python-dotenv, pyparsing, idna, cycler, requests-toolbelt, roboflow\n",
            "  Attempting uninstall: pyparsing\n",
            "    Found existing installation: pyparsing 3.0.9\n",
            "    Uninstalling pyparsing-3.0.9:\n",
            "      Successfully uninstalled pyparsing-3.0.9\n",
            "  Attempting uninstall: idna\n",
            "    Found existing installation: idna 3.4\n",
            "    Uninstalling idna-3.4:\n",
            "      Successfully uninstalled idna-3.4\n",
            "  Attempting uninstall: cycler\n",
            "    Found existing installation: cycler 0.11.0\n",
            "    Uninstalling cycler-0.11.0:\n",
            "      Successfully uninstalled cycler-0.11.0\n",
            "Successfully installed cycler-0.10.0 idna-2.10 pyparsing-2.4.7 python-dotenv-1.0.0 requests-toolbelt-1.0.0 roboflow-1.0.9 wget-3.2\n"
          ]
        },
        {
          "output_type": "display_data",
          "data": {
            "application/vnd.colab-display-data+json": {
              "pip_warning": {
                "packages": [
                  "cycler",
                  "pyparsing"
                ]
              }
            }
          },
          "metadata": {}
        },
        {
          "output_type": "stream",
          "name": "stdout",
          "text": [
            "loading Roboflow workspace...\n",
            "loading Roboflow project...\n",
            "Dependency ultralytics<=8.0.20 is required but found version=8.0.118, to fix: `pip install ultralytics<=8.0.20`\n",
            "Downloading Dataset Version Zip in glasses-detection-4 to yolov8: 100% [60713625 / 60713625] bytes\n"
          ]
        },
        {
          "output_type": "stream",
          "name": "stderr",
          "text": [
            "Extracting Dataset Version Zip to glasses-detection-4 in yolov8:: 100%|██████████| 2460/2460 [00:00<00:00, 2928.73it/s]\n"
          ]
        }
      ],
      "source": [
        "!pip install roboflow\n",
        "\n",
        "from roboflow import Roboflow\n",
        "rf = Roboflow(api_key=\"M8MDL6Y2gQZOmQX1SY8G\")\n",
        "project = rf.workspace(\"it-3pwlf\").project(\"glasses-detection-cqd8m\")\n",
        "dataset = project.version(4).download(\"yolov8\")\n"
      ]
    },
    {
      "cell_type": "code",
      "execution_count": null,
      "metadata": {
        "colab": {
          "base_uri": "https://localhost:8080/"
        },
        "id": "rjbao4cfQZUG",
        "outputId": "bf1e0f7e-8a7f-429f-9513-4b006407c9a6"
      },
      "outputs": [
        {
          "output_type": "stream",
          "name": "stdout",
          "text": [
            "/content/ultralytics/glasses-detection-4/train/images\n"
          ]
        }
      ],
      "source": [
        "cd /content/ultralytics/glasses-detection-4/train/images/"
      ]
    },
    {
      "cell_type": "code",
      "execution_count": null,
      "metadata": {
        "colab": {
          "base_uri": "https://localhost:8080/"
        },
        "id": "DThCjERJQZPG",
        "outputId": "20fc7f65-204d-49b5-bdba-e1dcf23b053c"
      },
      "outputs": [
        {
          "output_type": "stream",
          "name": "stdout",
          "text": [
            "857\n"
          ]
        }
      ],
      "source": [
        "ls -1 | wc -l"
      ]
    },
    {
      "cell_type": "code",
      "source": [
        "cd /content/ultralytics/glasses-detection-4/valid/images/"
      ],
      "metadata": {
        "colab": {
          "base_uri": "https://localhost:8080/"
        },
        "id": "4jlZZXbzmePR",
        "outputId": "51346464-a6de-4a09-e586-d53372733296"
      },
      "execution_count": null,
      "outputs": [
        {
          "output_type": "stream",
          "name": "stdout",
          "text": [
            "/content/ultralytics/glasses-detection-4/valid/images\n"
          ]
        }
      ]
    },
    {
      "cell_type": "code",
      "source": [
        "ls -1 | wc -l"
      ],
      "metadata": {
        "colab": {
          "base_uri": "https://localhost:8080/"
        },
        "id": "2TaWwUHAmiUp",
        "outputId": "53be160f-f9a5-4655-95e3-fb39424ce5a4"
      },
      "execution_count": null,
      "outputs": [
        {
          "output_type": "stream",
          "name": "stdout",
          "text": [
            "121\n"
          ]
        }
      ]
    },
    {
      "cell_type": "code",
      "source": [
        "cd /content/ultralytics/glasses-detection-4/test/images/"
      ],
      "metadata": {
        "colab": {
          "base_uri": "https://localhost:8080/"
        },
        "id": "p9D7Qa-WmkCU",
        "outputId": "fbd149e6-0ee1-4c41-80e1-c15ee85350bc"
      },
      "execution_count": null,
      "outputs": [
        {
          "output_type": "stream",
          "name": "stdout",
          "text": [
            "/content/ultralytics/glasses-detection-4/test/images\n"
          ]
        }
      ]
    },
    {
      "cell_type": "code",
      "source": [
        "ls -1 | wc -l"
      ],
      "metadata": {
        "colab": {
          "base_uri": "https://localhost:8080/"
        },
        "id": "vjwcq-OjmkJf",
        "outputId": "b2b5b3e9-0dcd-4949-8e56-9d382346ff72"
      },
      "execution_count": null,
      "outputs": [
        {
          "output_type": "stream",
          "name": "stdout",
          "text": [
            "246\n"
          ]
        }
      ]
    },
    {
      "cell_type": "code",
      "source": [
        "pip install neptune"
      ],
      "metadata": {
        "colab": {
          "base_uri": "https://localhost:8080/"
        },
        "id": "tyGMGROqnegO",
        "outputId": "1df8f88e-4da8-4981-d5b6-35bc0b2f7429"
      },
      "execution_count": null,
      "outputs": [
        {
          "output_type": "stream",
          "name": "stdout",
          "text": [
            "Looking in indexes: https://pypi.org/simple, https://us-python.pkg.dev/colab-wheels/public/simple/\n",
            "Collecting neptune\n",
            "  Downloading neptune-1.3.1-py3-none-any.whl (450 kB)\n",
            "\u001b[2K     \u001b[90m━━━━━━━━━━━━━━━━━━━━━━━━━━━━━━━━━━━━━━\u001b[0m \u001b[32m450.4/450.4 kB\u001b[0m \u001b[31m10.2 MB/s\u001b[0m eta \u001b[36m0:00:00\u001b[0m\n",
            "\u001b[?25hCollecting GitPython>=2.0.8 (from neptune)\n",
            "  Downloading GitPython-3.1.31-py3-none-any.whl (184 kB)\n",
            "\u001b[2K     \u001b[90m━━━━━━━━━━━━━━━━━━━━━━━━━━━━━━━━━━━━━━\u001b[0m \u001b[32m184.3/184.3 kB\u001b[0m \u001b[31m23.3 MB/s\u001b[0m eta \u001b[36m0:00:00\u001b[0m\n",
            "\u001b[?25hRequirement already satisfied: Pillow>=1.1.6 in /usr/local/lib/python3.10/dist-packages (from neptune) (8.4.0)\n",
            "Collecting PyJWT (from neptune)\n",
            "  Downloading PyJWT-2.7.0-py3-none-any.whl (22 kB)\n",
            "Collecting boto3>=1.16.0 (from neptune)\n",
            "  Downloading boto3-1.26.154-py3-none-any.whl (135 kB)\n",
            "\u001b[2K     \u001b[90m━━━━━━━━━━━━━━━━━━━━━━━━━━━━━━━━━━━━━━\u001b[0m \u001b[32m135.6/135.6 kB\u001b[0m \u001b[31m19.0 MB/s\u001b[0m eta \u001b[36m0:00:00\u001b[0m\n",
            "\u001b[?25hCollecting bravado<12.0.0,>=11.0.0 (from neptune)\n",
            "  Downloading bravado-11.0.3-py2.py3-none-any.whl (38 kB)\n",
            "Requirement already satisfied: click>=7.0 in /usr/local/lib/python3.10/dist-packages (from neptune) (8.1.3)\n",
            "Requirement already satisfied: future>=0.17.1 in /usr/local/lib/python3.10/dist-packages (from neptune) (0.18.3)\n",
            "Requirement already satisfied: oauthlib>=2.1.0 in /usr/local/lib/python3.10/dist-packages (from neptune) (3.2.2)\n",
            "Requirement already satisfied: packaging in /usr/local/lib/python3.10/dist-packages (from neptune) (23.1)\n",
            "Requirement already satisfied: pandas in /usr/local/lib/python3.10/dist-packages (from neptune) (1.5.3)\n",
            "Collecting pipreqs>=0.4 (from neptune)\n",
            "  Downloading pipreqs-0.4.13-py2.py3-none-any.whl (33 kB)\n",
            "Requirement already satisfied: psutil in /usr/local/lib/python3.10/dist-packages (from neptune) (5.9.5)\n",
            "Requirement already satisfied: requests>=2.20.0 in /usr/local/lib/python3.10/dist-packages (from neptune) (2.27.1)\n",
            "Requirement already satisfied: requests-oauthlib>=1.0.0 in /usr/local/lib/python3.10/dist-packages (from neptune) (1.3.1)\n",
            "Requirement already satisfied: six>=1.12.0 in /usr/local/lib/python3.10/dist-packages (from neptune) (1.16.0)\n",
            "Collecting swagger-spec-validator>=2.7.4 (from neptune)\n",
            "  Downloading swagger_spec_validator-3.0.3-py2.py3-none-any.whl (27 kB)\n",
            "Requirement already satisfied: urllib3 in /usr/local/lib/python3.10/dist-packages (from neptune) (1.26.15)\n",
            "Requirement already satisfied: websocket-client!=1.0.0,>=0.35.0 in /usr/local/lib/python3.10/dist-packages (from neptune) (1.5.1)\n",
            "Collecting botocore<1.30.0,>=1.29.154 (from boto3>=1.16.0->neptune)\n",
            "  Downloading botocore-1.29.154-py3-none-any.whl (10.9 MB)\n",
            "\u001b[2K     \u001b[90m━━━━━━━━━━━━━━━━━━━━━━━━━━━━━━━━━━━━━━━━\u001b[0m \u001b[32m10.9/10.9 MB\u001b[0m \u001b[31m82.6 MB/s\u001b[0m eta \u001b[36m0:00:00\u001b[0m\n",
            "\u001b[?25hCollecting jmespath<2.0.0,>=0.7.1 (from boto3>=1.16.0->neptune)\n",
            "  Downloading jmespath-1.0.1-py3-none-any.whl (20 kB)\n",
            "Collecting s3transfer<0.7.0,>=0.6.0 (from boto3>=1.16.0->neptune)\n",
            "  Downloading s3transfer-0.6.1-py3-none-any.whl (79 kB)\n",
            "\u001b[2K     \u001b[90m━━━━━━━━━━━━━━━━━━━━━━━━━━━━━━━━━━━━━━━━\u001b[0m \u001b[32m79.8/79.8 kB\u001b[0m \u001b[31m9.8 MB/s\u001b[0m eta \u001b[36m0:00:00\u001b[0m\n",
            "\u001b[?25hCollecting bravado-core>=5.16.1 (from bravado<12.0.0,>=11.0.0->neptune)\n",
            "  Downloading bravado_core-5.17.1-py2.py3-none-any.whl (67 kB)\n",
            "\u001b[2K     \u001b[90m━━━━━━━━━━━━━━━━━━━━━━━━━━━━━━━━━━━━━━━━\u001b[0m \u001b[32m67.7/67.7 kB\u001b[0m \u001b[31m8.5 MB/s\u001b[0m eta \u001b[36m0:00:00\u001b[0m\n",
            "\u001b[?25hRequirement already satisfied: msgpack in /usr/local/lib/python3.10/dist-packages (from bravado<12.0.0,>=11.0.0->neptune) (1.0.5)\n",
            "Requirement already satisfied: python-dateutil in /usr/local/lib/python3.10/dist-packages (from bravado<12.0.0,>=11.0.0->neptune) (2.8.2)\n",
            "Requirement already satisfied: pyyaml in /usr/local/lib/python3.10/dist-packages (from bravado<12.0.0,>=11.0.0->neptune) (6.0)\n",
            "Collecting simplejson (from bravado<12.0.0,>=11.0.0->neptune)\n",
            "  Downloading simplejson-3.19.1-cp310-cp310-manylinux_2_5_x86_64.manylinux1_x86_64.manylinux_2_17_x86_64.manylinux2014_x86_64.whl (137 kB)\n",
            "\u001b[2K     \u001b[90m━━━━━━━━━━━━━━━━━━━━━━━━━━━━━━━━━━━━━━\u001b[0m \u001b[32m137.9/137.9 kB\u001b[0m \u001b[31m17.5 MB/s\u001b[0m eta \u001b[36m0:00:00\u001b[0m\n",
            "\u001b[?25hCollecting monotonic (from bravado<12.0.0,>=11.0.0->neptune)\n",
            "  Downloading monotonic-1.6-py2.py3-none-any.whl (8.2 kB)\n",
            "Requirement already satisfied: typing-extensions in /usr/local/lib/python3.10/dist-packages (from bravado<12.0.0,>=11.0.0->neptune) (4.5.0)\n",
            "Collecting gitdb<5,>=4.0.1 (from GitPython>=2.0.8->neptune)\n",
            "  Downloading gitdb-4.0.10-py3-none-any.whl (62 kB)\n",
            "\u001b[2K     \u001b[90m━━━━━━━━━━━━━━━━━━━━━━━━━━━━━━━━━━━━━━━━\u001b[0m \u001b[32m62.7/62.7 kB\u001b[0m \u001b[31m8.3 MB/s\u001b[0m eta \u001b[36m0:00:00\u001b[0m\n",
            "\u001b[?25hCollecting docopt (from pipreqs>=0.4->neptune)\n",
            "  Downloading docopt-0.6.2.tar.gz (25 kB)\n",
            "  Preparing metadata (setup.py) ... \u001b[?25l\u001b[?25hdone\n",
            "Collecting yarg (from pipreqs>=0.4->neptune)\n",
            "  Downloading yarg-0.1.9-py2.py3-none-any.whl (19 kB)\n",
            "Requirement already satisfied: certifi>=2017.4.17 in /usr/local/lib/python3.10/dist-packages (from requests>=2.20.0->neptune) (2022.12.7)\n",
            "Requirement already satisfied: charset-normalizer~=2.0.0 in /usr/local/lib/python3.10/dist-packages (from requests>=2.20.0->neptune) (2.0.12)\n",
            "Requirement already satisfied: idna<4,>=2.5 in /usr/local/lib/python3.10/dist-packages (from requests>=2.20.0->neptune) (2.10)\n",
            "Requirement already satisfied: jsonschema in /usr/local/lib/python3.10/dist-packages (from swagger-spec-validator>=2.7.4->neptune) (4.3.3)\n",
            "Requirement already satisfied: pytz>=2020.1 in /usr/local/lib/python3.10/dist-packages (from pandas->neptune) (2022.7.1)\n",
            "Requirement already satisfied: numpy>=1.21.0 in /usr/local/lib/python3.10/dist-packages (from pandas->neptune) (1.22.4)\n",
            "Collecting jsonref (from bravado-core>=5.16.1->bravado<12.0.0,>=11.0.0->neptune)\n",
            "  Downloading jsonref-1.1.0-py3-none-any.whl (9.4 kB)\n",
            "Collecting smmap<6,>=3.0.1 (from gitdb<5,>=4.0.1->GitPython>=2.0.8->neptune)\n",
            "  Downloading smmap-5.0.0-py3-none-any.whl (24 kB)\n",
            "Requirement already satisfied: attrs>=17.4.0 in /usr/local/lib/python3.10/dist-packages (from jsonschema->swagger-spec-validator>=2.7.4->neptune) (23.1.0)\n",
            "Requirement already satisfied: pyrsistent!=0.17.0,!=0.17.1,!=0.17.2,>=0.14.0 in /usr/local/lib/python3.10/dist-packages (from jsonschema->swagger-spec-validator>=2.7.4->neptune) (0.19.3)\n",
            "Collecting fqdn (from jsonschema->swagger-spec-validator>=2.7.4->neptune)\n",
            "  Downloading fqdn-1.5.1-py3-none-any.whl (9.1 kB)\n",
            "Collecting isoduration (from jsonschema->swagger-spec-validator>=2.7.4->neptune)\n",
            "  Downloading isoduration-20.11.0-py3-none-any.whl (11 kB)\n",
            "Collecting jsonpointer>1.13 (from jsonschema->swagger-spec-validator>=2.7.4->neptune)\n",
            "  Downloading jsonpointer-2.3-py2.py3-none-any.whl (7.8 kB)\n",
            "Collecting rfc3339-validator (from jsonschema->swagger-spec-validator>=2.7.4->neptune)\n",
            "  Downloading rfc3339_validator-0.1.4-py2.py3-none-any.whl (3.5 kB)\n",
            "Collecting rfc3987 (from jsonschema->swagger-spec-validator>=2.7.4->neptune)\n",
            "  Downloading rfc3987-1.3.8-py2.py3-none-any.whl (13 kB)\n",
            "Collecting uri-template (from jsonschema->swagger-spec-validator>=2.7.4->neptune)\n",
            "  Downloading uri_template-1.2.0-py3-none-any.whl (10 kB)\n",
            "Requirement already satisfied: webcolors>=1.11 in /usr/local/lib/python3.10/dist-packages (from jsonschema->swagger-spec-validator>=2.7.4->neptune) (1.13)\n",
            "Collecting arrow>=0.15.0 (from isoduration->jsonschema->swagger-spec-validator>=2.7.4->neptune)\n",
            "  Downloading arrow-1.2.3-py3-none-any.whl (66 kB)\n",
            "\u001b[2K     \u001b[90m━━━━━━━━━━━━━━━━━━━━━━━━━━━━━━━━━━━━━━━━\u001b[0m \u001b[32m66.4/66.4 kB\u001b[0m \u001b[31m10.2 MB/s\u001b[0m eta \u001b[36m0:00:00\u001b[0m\n",
            "\u001b[?25hBuilding wheels for collected packages: docopt\n",
            "  Building wheel for docopt (setup.py) ... \u001b[?25l\u001b[?25hdone\n",
            "  Created wheel for docopt: filename=docopt-0.6.2-py2.py3-none-any.whl size=13707 sha256=19e03381aaca9aaca6f256549cf621c2bd54cd581a9dc8556f1dc78286e6d1a2\n",
            "  Stored in directory: /root/.cache/pip/wheels/fc/ab/d4/5da2067ac95b36618c629a5f93f809425700506f72c9732fac\n",
            "Successfully built docopt\n",
            "Installing collected packages: rfc3987, monotonic, docopt, uri-template, smmap, simplejson, rfc3339-validator, PyJWT, jsonref, jsonpointer, jmespath, fqdn, yarg, swagger-spec-validator, gitdb, botocore, arrow, s3transfer, pipreqs, isoduration, GitPython, boto3, bravado-core, bravado, neptune\n",
            "Successfully installed GitPython-3.1.31 PyJWT-2.7.0 arrow-1.2.3 boto3-1.26.154 botocore-1.29.154 bravado-11.0.3 bravado-core-5.17.1 docopt-0.6.2 fqdn-1.5.1 gitdb-4.0.10 isoduration-20.11.0 jmespath-1.0.1 jsonpointer-2.3 jsonref-1.1.0 monotonic-1.6 neptune-1.3.1 pipreqs-0.4.13 rfc3339-validator-0.1.4 rfc3987-1.3.8 s3transfer-0.6.1 simplejson-3.19.1 smmap-5.0.0 swagger-spec-validator-3.0.3 uri-template-1.2.0 yarg-0.1.9\n"
          ]
        }
      ]
    },
    {
      "cell_type": "code",
      "source": [
        "import os\n",
        "os.environ"
      ],
      "metadata": {
        "id": "HPX30VxiriZz"
      },
      "execution_count": null,
      "outputs": []
    },
    {
      "cell_type": "code",
      "source": [
        "os.environ[\"NEPTUNE_API_TOKEN\"]=\"$NEPTUNE_API_TOKEN\""
      ],
      "metadata": {
        "id": "uf4e69ymrny2"
      },
      "execution_count": 9,
      "outputs": []
    },
    {
      "cell_type": "code",
      "source": [
        "os.environ[\"NEPTUNE_PROJECT\"]=\"ssahinnkadir/YOLOv8\""
      ],
      "metadata": {
        "id": "j4sAygZ9rijS"
      },
      "execution_count": 10,
      "outputs": []
    },
    {
      "cell_type": "code",
      "source": [
        "rm -r /content/ultralytics/runs"
      ],
      "metadata": {
        "id": "O0SfvFX5qyzK"
      },
      "execution_count": 11,
      "outputs": []
    },
    {
      "cell_type": "code",
      "execution_count": 12,
      "metadata": {
        "colab": {
          "base_uri": "https://localhost:8080/"
        },
        "id": "VkgBKeM1dQH6",
        "outputId": "fabf425f-abc7-40a6-c759-55c620fd80ad"
      },
      "outputs": [
        {
          "output_type": "stream",
          "name": "stdout",
          "text": [
            "Ultralytics YOLOv8.0.118 🚀 Python-3.10.12 torch-2.0.1+cu118 CUDA:0 (Tesla T4, 15102MiB)\n",
            "\u001b[34m\u001b[1myolo/engine/trainer: \u001b[0mtask=detect, mode=train, model=yolov8n.pt, data=/content/ultralytics/glasses-detection-4/data.yaml, epochs=30, patience=50, batch=16, imgsz=640, save=True, save_period=-1, cache=False, device=None, workers=8, project=None, name=None, exist_ok=False, pretrained=False, optimizer=auto, verbose=True, seed=0, deterministic=True, single_cls=False, rect=False, cos_lr=False, close_mosaic=0, resume=False, amp=True, fraction=1.0, profile=False, overlap_mask=True, mask_ratio=4, dropout=0.0, val=True, split=val, save_json=False, save_hybrid=False, conf=None, iou=0.7, max_det=300, half=False, dnn=False, plots=True, source=None, show=False, save_txt=False, save_conf=False, save_crop=False, show_labels=True, show_conf=True, vid_stride=1, line_width=None, visualize=False, augment=False, agnostic_nms=False, classes=None, retina_masks=False, boxes=True, format=torchscript, keras=False, optimize=False, int8=False, dynamic=False, simplify=False, opset=None, workspace=4, nms=False, lr0=0.01, lrf=0.01, momentum=0.937, weight_decay=0.0005, warmup_epochs=3.0, warmup_momentum=0.8, warmup_bias_lr=0.1, box=7.5, cls=0.5, dfl=1.5, pose=12.0, kobj=1.0, label_smoothing=0.0, nbs=64, hsv_h=0.015, hsv_s=0.7, hsv_v=0.4, degrees=0.0, translate=0.1, scale=0.5, shear=0.0, perspective=0.0, flipud=0.0, fliplr=0.5, mosaic=1.0, mixup=0.0, copy_paste=0.0, cfg=None, v5loader=False, tracker=botsort.yaml, save_dir=/content/ultralytics/runs/detect/train\n",
            "Overriding model.yaml nc=80 with nc=2\n",
            "\n",
            "                   from  n    params  module                                       arguments                     \n",
            "  0                  -1  1       464  ultralytics.nn.modules.conv.Conv             [3, 16, 3, 2]                 \n",
            "  1                  -1  1      4672  ultralytics.nn.modules.conv.Conv             [16, 32, 3, 2]                \n",
            "  2                  -1  1      7360  ultralytics.nn.modules.block.C2f             [32, 32, 1, True]             \n",
            "  3                  -1  1     18560  ultralytics.nn.modules.conv.Conv             [32, 64, 3, 2]                \n",
            "  4                  -1  2     49664  ultralytics.nn.modules.block.C2f             [64, 64, 2, True]             \n",
            "  5                  -1  1     73984  ultralytics.nn.modules.conv.Conv             [64, 128, 3, 2]               \n",
            "  6                  -1  2    197632  ultralytics.nn.modules.block.C2f             [128, 128, 2, True]           \n",
            "  7                  -1  1    295424  ultralytics.nn.modules.conv.Conv             [128, 256, 3, 2]              \n",
            "  8                  -1  1    460288  ultralytics.nn.modules.block.C2f             [256, 256, 1, True]           \n",
            "  9                  -1  1    164608  ultralytics.nn.modules.block.SPPF            [256, 256, 5]                 \n",
            " 10                  -1  1         0  torch.nn.modules.upsampling.Upsample         [None, 2, 'nearest']          \n",
            " 11             [-1, 6]  1         0  ultralytics.nn.modules.conv.Concat           [1]                           \n",
            " 12                  -1  1    148224  ultralytics.nn.modules.block.C2f             [384, 128, 1]                 \n",
            " 13                  -1  1         0  torch.nn.modules.upsampling.Upsample         [None, 2, 'nearest']          \n",
            " 14             [-1, 4]  1         0  ultralytics.nn.modules.conv.Concat           [1]                           \n",
            " 15                  -1  1     37248  ultralytics.nn.modules.block.C2f             [192, 64, 1]                  \n",
            " 16                  -1  1     36992  ultralytics.nn.modules.conv.Conv             [64, 64, 3, 2]                \n",
            " 17            [-1, 12]  1         0  ultralytics.nn.modules.conv.Concat           [1]                           \n",
            " 18                  -1  1    123648  ultralytics.nn.modules.block.C2f             [192, 128, 1]                 \n",
            " 19                  -1  1    147712  ultralytics.nn.modules.conv.Conv             [128, 128, 3, 2]              \n",
            " 20             [-1, 9]  1         0  ultralytics.nn.modules.conv.Concat           [1]                           \n",
            " 21                  -1  1    493056  ultralytics.nn.modules.block.C2f             [384, 256, 1]                 \n",
            " 22        [15, 18, 21]  1    751702  ultralytics.nn.modules.head.Detect           [2, [64, 128, 256]]           \n",
            "Model summary: 225 layers, 3011238 parameters, 3011222 gradients\n",
            "\n",
            "Transferred 319/355 items from pretrained weights\n",
            "https://app.neptune.ai/ssahinnkadir/YOLOv8/e/YOL2-1\n",
            "\u001b[34m\u001b[1mTensorBoard: \u001b[0mStart with 'tensorboard --logdir /content/ultralytics/runs/detect/train', view at http://localhost:6006/\n",
            "\u001b[34m\u001b[1mAMP: \u001b[0mrunning Automatic Mixed Precision (AMP) checks with YOLOv8n...\n",
            "\u001b[34m\u001b[1mAMP: \u001b[0mchecks passed ✅\n",
            "\u001b[34m\u001b[1mtrain: \u001b[0mScanning /content/ultralytics/glasses-detection-4/train/labels.cache... 857 images, 0 backgrounds, 0 corrupt: 100% 857/857 [00:00<?, ?it/s]\n",
            "\u001b[34m\u001b[1malbumentations: \u001b[0mBlur(p=0.01, blur_limit=(3, 7)), MedianBlur(p=0.01, blur_limit=(3, 7)), ToGray(p=0.01), CLAHE(p=0.01, clip_limit=(1, 4.0), tile_grid_size=(8, 8))\n",
            "\u001b[34m\u001b[1mval: \u001b[0mScanning /content/ultralytics/glasses-detection-4/valid/labels.cache... 121 images, 0 backgrounds, 0 corrupt: 100% 121/121 [00:00<?, ?it/s]\n",
            "Plotting labels to /content/ultralytics/runs/detect/train/labels.jpg... \n",
            "\u001b[34m\u001b[1moptimizer:\u001b[0m AdamW(lr=0.001667, momentum=0.9) with parameter groups 57 weight(decay=0.0), 64 weight(decay=0.0005), 63 bias(decay=0.0)\n",
            "Image sizes 640 train, 640 val\n",
            "Using 2 dataloader workers\n",
            "Logging results to \u001b[1m/content/ultralytics/runs/detect/train\u001b[0m\n",
            "Starting training for 30 epochs...\n",
            "\n",
            "      Epoch    GPU_mem   box_loss   cls_loss   dfl_loss  Instances       Size\n",
            "       1/30      2.67G      1.393      2.677       1.53         28        640: 100% 54/54 [00:21<00:00,  2.55it/s]\n",
            "                 Class     Images  Instances      Box(P          R      mAP50  mAP50-95): 100% 4/4 [00:01<00:00,  2.35it/s]\n",
            "                   all        121        158      0.678      0.251       0.49      0.279\n",
            "\n",
            "      Epoch    GPU_mem   box_loss   cls_loss   dfl_loss  Instances       Size\n",
            "       2/30      2.59G      1.427      2.129      1.504         21        640: 100% 54/54 [00:16<00:00,  3.21it/s]\n",
            "                 Class     Images  Instances      Box(P          R      mAP50  mAP50-95): 100% 4/4 [00:02<00:00,  1.98it/s]\n",
            "                   all        121        158        0.4      0.354      0.335      0.178\n",
            "\n",
            "      Epoch    GPU_mem   box_loss   cls_loss   dfl_loss  Instances       Size\n",
            "       3/30      2.56G       1.45      1.911      1.503         31        640: 100% 54/54 [00:17<00:00,  3.06it/s]\n",
            "                 Class     Images  Instances      Box(P          R      mAP50  mAP50-95): 100% 4/4 [00:01<00:00,  2.27it/s]\n",
            "                   all        121        158        0.7       0.45       0.52      0.276\n",
            "\n",
            "      Epoch    GPU_mem   box_loss   cls_loss   dfl_loss  Instances       Size\n",
            "       4/30      2.53G      1.454      1.836      1.502         28        640: 100% 54/54 [00:17<00:00,  3.10it/s]\n",
            "                 Class     Images  Instances      Box(P          R      mAP50  mAP50-95): 100% 4/4 [00:02<00:00,  1.45it/s]\n",
            "                   all        121        158      0.508      0.546       0.46       0.24\n",
            "\n",
            "      Epoch    GPU_mem   box_loss   cls_loss   dfl_loss  Instances       Size\n",
            "       5/30      2.58G      1.438      1.661      1.456         24        640: 100% 54/54 [00:16<00:00,  3.25it/s]\n",
            "                 Class     Images  Instances      Box(P          R      mAP50  mAP50-95): 100% 4/4 [00:03<00:00,  1.24it/s]\n",
            "                   all        121        158      0.524      0.609      0.565      0.313\n",
            "\n",
            "      Epoch    GPU_mem   box_loss   cls_loss   dfl_loss  Instances       Size\n",
            "       6/30      2.55G       1.38      1.578      1.433         32        640: 100% 54/54 [00:16<00:00,  3.25it/s]\n",
            "                 Class     Images  Instances      Box(P          R      mAP50  mAP50-95): 100% 4/4 [00:01<00:00,  2.48it/s]\n",
            "                   all        121        158      0.649      0.526      0.585       0.33\n",
            "\n",
            "      Epoch    GPU_mem   box_loss   cls_loss   dfl_loss  Instances       Size\n",
            "       7/30      2.56G      1.387       1.49      1.446         21        640: 100% 54/54 [00:15<00:00,  3.39it/s]\n",
            "                 Class     Images  Instances      Box(P          R      mAP50  mAP50-95): 100% 4/4 [00:01<00:00,  2.12it/s]\n",
            "                   all        121        158      0.684      0.755      0.741      0.408\n",
            "\n",
            "      Epoch    GPU_mem   box_loss   cls_loss   dfl_loss  Instances       Size\n",
            "       8/30      2.55G      1.389      1.473      1.454         22        640: 100% 54/54 [00:16<00:00,  3.21it/s]\n",
            "                 Class     Images  Instances      Box(P          R      mAP50  mAP50-95): 100% 4/4 [00:03<00:00,  1.31it/s]\n",
            "                   all        121        158      0.837      0.663      0.815      0.451\n",
            "\n",
            "      Epoch    GPU_mem   box_loss   cls_loss   dfl_loss  Instances       Size\n",
            "       9/30      2.54G      1.319      1.362      1.397         43        640: 100% 54/54 [00:16<00:00,  3.28it/s]\n",
            "                 Class     Images  Instances      Box(P          R      mAP50  mAP50-95): 100% 4/4 [00:01<00:00,  2.47it/s]\n",
            "                   all        121        158      0.793      0.776      0.805      0.452\n",
            "\n",
            "      Epoch    GPU_mem   box_loss   cls_loss   dfl_loss  Instances       Size\n",
            "      10/30      2.55G      1.315      1.256      1.395         29        640: 100% 54/54 [00:16<00:00,  3.21it/s]\n",
            "                 Class     Images  Instances      Box(P          R      mAP50  mAP50-95): 100% 4/4 [00:01<00:00,  2.17it/s]\n",
            "                   all        121        158      0.802      0.786      0.843      0.512\n",
            "\n",
            "      Epoch    GPU_mem   box_loss   cls_loss   dfl_loss  Instances       Size\n",
            "      11/30      2.54G      1.289      1.238      1.368         21        640: 100% 54/54 [00:17<00:00,  3.08it/s]\n",
            "                 Class     Images  Instances      Box(P          R      mAP50  mAP50-95): 100% 4/4 [00:02<00:00,  1.57it/s]\n",
            "                   all        121        158      0.894      0.756      0.882      0.548\n",
            "\n",
            "      Epoch    GPU_mem   box_loss   cls_loss   dfl_loss  Instances       Size\n",
            "      12/30      2.55G      1.204      1.165      1.318         25        640: 100% 54/54 [00:16<00:00,  3.33it/s]\n",
            "                 Class     Images  Instances      Box(P          R      mAP50  mAP50-95): 100% 4/4 [00:01<00:00,  2.17it/s]\n",
            "                   all        121        158      0.849      0.847      0.906      0.537\n",
            "\n",
            "      Epoch    GPU_mem   box_loss   cls_loss   dfl_loss  Instances       Size\n",
            "      13/30      2.58G      1.232      1.172      1.324         25        640: 100% 54/54 [00:16<00:00,  3.29it/s]\n",
            "                 Class     Images  Instances      Box(P          R      mAP50  mAP50-95): 100% 4/4 [00:01<00:00,  2.45it/s]\n",
            "                   all        121        158      0.794      0.867      0.857      0.567\n",
            "\n",
            "      Epoch    GPU_mem   box_loss   cls_loss   dfl_loss  Instances       Size\n",
            "      14/30      2.54G      1.217      1.109      1.324         21        640: 100% 54/54 [00:16<00:00,  3.31it/s]\n",
            "                 Class     Images  Instances      Box(P          R      mAP50  mAP50-95): 100% 4/4 [00:03<00:00,  1.30it/s]\n",
            "                   all        121        158      0.807      0.828      0.853      0.543\n",
            "\n",
            "      Epoch    GPU_mem   box_loss   cls_loss   dfl_loss  Instances       Size\n",
            "      15/30      2.56G      1.193      1.097      1.302         24        640: 100% 54/54 [00:16<00:00,  3.28it/s]\n",
            "                 Class     Images  Instances      Box(P          R      mAP50  mAP50-95): 100% 4/4 [00:01<00:00,  2.36it/s]\n",
            "                   all        121        158      0.825      0.882      0.893        0.6\n",
            "\n",
            "      Epoch    GPU_mem   box_loss   cls_loss   dfl_loss  Instances       Size\n",
            "      16/30      2.53G      1.164      1.038      1.296         41        640: 100% 54/54 [00:16<00:00,  3.27it/s]\n",
            "                 Class     Images  Instances      Box(P          R      mAP50  mAP50-95): 100% 4/4 [00:01<00:00,  2.33it/s]\n",
            "                   all        121        158      0.924      0.837      0.919      0.608\n",
            "\n",
            "      Epoch    GPU_mem   box_loss   cls_loss   dfl_loss  Instances       Size\n",
            "      17/30      2.56G      1.158      1.012      1.288         41        640: 100% 54/54 [00:16<00:00,  3.26it/s]\n",
            "                 Class     Images  Instances      Box(P          R      mAP50  mAP50-95): 100% 4/4 [00:03<00:00,  1.28it/s]\n",
            "                   all        121        158      0.813      0.809      0.886      0.591\n",
            "\n",
            "      Epoch    GPU_mem   box_loss   cls_loss   dfl_loss  Instances       Size\n",
            "      18/30      2.57G      1.126      0.967       1.26         41        640: 100% 54/54 [00:18<00:00,  2.95it/s]\n",
            "                 Class     Images  Instances      Box(P          R      mAP50  mAP50-95): 100% 4/4 [00:01<00:00,  2.19it/s]\n",
            "                   all        121        158      0.808      0.868      0.897      0.617\n",
            "\n",
            "      Epoch    GPU_mem   box_loss   cls_loss   dfl_loss  Instances       Size\n",
            "      19/30      2.54G      1.102     0.9578      1.243         22        640: 100% 54/54 [00:16<00:00,  3.29it/s]\n",
            "                 Class     Images  Instances      Box(P          R      mAP50  mAP50-95): 100% 4/4 [00:01<00:00,  2.25it/s]\n",
            "                   all        121        158       0.87      0.873      0.913      0.627\n",
            "\n",
            "      Epoch    GPU_mem   box_loss   cls_loss   dfl_loss  Instances       Size\n",
            "      20/30      2.53G      1.111     0.9103      1.249         30        640: 100% 54/54 [00:17<00:00,  3.03it/s]\n",
            "                 Class     Images  Instances      Box(P          R      mAP50  mAP50-95): 100% 4/4 [00:01<00:00,  2.39it/s]\n",
            "                   all        121        158      0.855      0.882      0.901      0.604\n",
            "\n",
            "      Epoch    GPU_mem   box_loss   cls_loss   dfl_loss  Instances       Size\n",
            "      21/30      2.54G      1.077     0.8718      1.234         23        640: 100% 54/54 [00:16<00:00,  3.32it/s]\n",
            "                 Class     Images  Instances      Box(P          R      mAP50  mAP50-95): 100% 4/4 [00:01<00:00,  2.36it/s]\n",
            "                   all        121        158      0.898      0.859      0.936      0.627\n",
            "\n",
            "      Epoch    GPU_mem   box_loss   cls_loss   dfl_loss  Instances       Size\n",
            "      22/30      2.58G      1.068     0.8806      1.229         21        640: 100% 54/54 [00:16<00:00,  3.29it/s]\n",
            "                 Class     Images  Instances      Box(P          R      mAP50  mAP50-95): 100% 4/4 [00:01<00:00,  2.12it/s]\n",
            "                   all        121        158      0.874      0.894      0.925      0.646\n",
            "\n",
            "      Epoch    GPU_mem   box_loss   cls_loss   dfl_loss  Instances       Size\n",
            "      23/30      2.54G      1.024     0.8398      1.212         17        640: 100% 54/54 [00:17<00:00,  3.11it/s]\n",
            "                 Class     Images  Instances      Box(P          R      mAP50  mAP50-95): 100% 4/4 [00:01<00:00,  2.06it/s]\n",
            "                   all        121        158      0.899       0.89      0.926      0.646\n",
            "\n",
            "      Epoch    GPU_mem   box_loss   cls_loss   dfl_loss  Instances       Size\n",
            "      24/30      2.55G      1.025     0.8395      1.195         24        640: 100% 54/54 [00:16<00:00,  3.32it/s]\n",
            "                 Class     Images  Instances      Box(P          R      mAP50  mAP50-95): 100% 4/4 [00:01<00:00,  2.19it/s]\n",
            "                   all        121        158      0.871      0.909       0.94      0.667\n",
            "\n",
            "      Epoch    GPU_mem   box_loss   cls_loss   dfl_loss  Instances       Size\n",
            "      25/30      2.58G     0.9999     0.7965      1.193         36        640: 100% 54/54 [00:16<00:00,  3.28it/s]\n",
            "                 Class     Images  Instances      Box(P          R      mAP50  mAP50-95): 100% 4/4 [00:01<00:00,  2.30it/s]\n",
            "                   all        121        158      0.889      0.909      0.937      0.667\n",
            "\n",
            "      Epoch    GPU_mem   box_loss   cls_loss   dfl_loss  Instances       Size\n",
            "      26/30      2.53G     0.9865     0.7726       1.17         32        640: 100% 54/54 [00:18<00:00,  3.00it/s]\n",
            "                 Class     Images  Instances      Box(P          R      mAP50  mAP50-95): 100% 4/4 [00:01<00:00,  2.26it/s]\n",
            "                   all        121        158      0.915      0.932      0.936      0.686\n",
            "\n",
            "      Epoch    GPU_mem   box_loss   cls_loss   dfl_loss  Instances       Size\n",
            "      27/30      2.58G      0.975     0.7596      1.172         39        640: 100% 54/54 [00:16<00:00,  3.25it/s]\n",
            "                 Class     Images  Instances      Box(P          R      mAP50  mAP50-95): 100% 4/4 [00:01<00:00,  2.45it/s]\n",
            "                   all        121        158      0.918      0.936      0.942      0.666\n",
            "\n",
            "      Epoch    GPU_mem   box_loss   cls_loss   dfl_loss  Instances       Size\n",
            "      28/30      2.55G     0.9537     0.7458      1.163         19        640: 100% 54/54 [00:16<00:00,  3.24it/s]\n",
            "                 Class     Images  Instances      Box(P          R      mAP50  mAP50-95): 100% 4/4 [00:02<00:00,  1.91it/s]\n",
            "                   all        121        158      0.898      0.942      0.942      0.667\n",
            "\n",
            "      Epoch    GPU_mem   box_loss   cls_loss   dfl_loss  Instances       Size\n",
            "      29/30      2.54G     0.9232     0.7306      1.145         29        640: 100% 54/54 [00:17<00:00,  3.14it/s]\n",
            "                 Class     Images  Instances      Box(P          R      mAP50  mAP50-95): 100% 4/4 [00:01<00:00,  2.42it/s]\n",
            "                   all        121        158       0.92      0.953      0.948      0.687\n",
            "\n",
            "      Epoch    GPU_mem   box_loss   cls_loss   dfl_loss  Instances       Size\n",
            "      30/30      2.55G     0.9108     0.7246      1.143         30        640: 100% 54/54 [00:16<00:00,  3.29it/s]\n",
            "                 Class     Images  Instances      Box(P          R      mAP50  mAP50-95): 100% 4/4 [00:05<00:00,  1.26s/it]\n",
            "                   all        121        158      0.932      0.928      0.941      0.688\n",
            "\n",
            "30 epochs completed in 0.165 hours.\n",
            "Optimizer stripped from /content/ultralytics/runs/detect/train/weights/last.pt, 6.2MB\n",
            "Optimizer stripped from /content/ultralytics/runs/detect/train/weights/best.pt, 6.2MB\n",
            "\n",
            "Validating /content/ultralytics/runs/detect/train/weights/best.pt...\n",
            "Ultralytics YOLOv8.0.118 🚀 Python-3.10.12 torch-2.0.1+cu118 CUDA:0 (Tesla T4, 15102MiB)\n",
            "Model summary (fused): 168 layers, 3006038 parameters, 0 gradients\n",
            "                 Class     Images  Instances      Box(P          R      mAP50  mAP50-95): 100% 4/4 [00:05<00:00,  1.27s/it]\n",
            "                   all        121        158      0.932      0.928      0.941      0.689\n",
            "               glasses        121        102      0.942      0.892      0.953       0.69\n",
            "            sunglasses        121         56      0.922      0.964      0.929      0.688\n",
            "Speed: 8.0ms preprocess, 3.6ms inference, 0.0ms loss, 5.3ms postprocess per image\n",
            "Results saved to \u001b[1m/content/ultralytics/runs/detect/train\u001b[0m\n",
            "Error occurred during asynchronous operation processing: X-coordinates (step) must be strictly increasing for series attribute: metrics/precision(B). Invalid point: 30.0\n",
            "Error occurred during asynchronous operation processing: X-coordinates (step) must be strictly increasing for series attribute: metrics/recall(B). Invalid point: 30.0\n",
            "Error occurred during asynchronous operation processing: X-coordinates (step) must be strictly increasing for series attribute: metrics/mAP50(B). Invalid point: 30.0\n",
            "Error occurred during asynchronous operation processing: X-coordinates (step) must be strictly increasing for series attribute: metrics/mAP50-95(B). Invalid point: 30.0\n",
            "Shutting down background jobs, please wait a moment...\n",
            "Done!\n",
            "Waiting for the remaining 16 operations to synchronize with Neptune. Do not kill this process.\n",
            "All 16 operations synced, thanks for waiting!\n",
            "Explore the metadata in the Neptune app:\n",
            "https://app.neptune.ai/ssahinnkadir/YOLOv8/e/YOL2-1/metadata\n"
          ]
        }
      ],
      "source": [
        "# Train YOLOv8n on glasses detection roboflow dataset for 30 epochs\n",
        "!yolo train model=yolov8n.pt data=/content/ultralytics/glasses-detection-4/data.yaml epochs=30 imgsz=640"
      ]
    },
    {
      "cell_type": "code",
      "source": [
        "!zip -r train.zip /content/ultralytics/runs/detect/train"
      ],
      "metadata": {
        "colab": {
          "base_uri": "https://localhost:8080/"
        },
        "id": "F7KsGsnJwPOw",
        "outputId": "8ab9899d-783b-4405-ff1a-2547a16e3ea6"
      },
      "execution_count": 14,
      "outputs": [
        {
          "output_type": "stream",
          "name": "stdout",
          "text": [
            "  adding: content/ultralytics/runs/detect/train/ (stored 0%)\n",
            "  adding: content/ultralytics/runs/detect/train/events.out.tfevents.1686910245.ccac91a50180.7890.0 (deflated 72%)\n",
            "  adding: content/ultralytics/runs/detect/train/train_batch0.jpg (deflated 2%)\n",
            "  adding: content/ultralytics/runs/detect/train/train_batch2.jpg (deflated 2%)\n",
            "  adding: content/ultralytics/runs/detect/train/val_batch1_labels.jpg (deflated 12%)\n",
            "  adding: content/ultralytics/runs/detect/train/val_batch0_labels.jpg (deflated 11%)\n",
            "  adding: content/ultralytics/runs/detect/train/weights/ (stored 0%)\n",
            "  adding: content/ultralytics/runs/detect/train/weights/last.pt (deflated 9%)\n",
            "  adding: content/ultralytics/runs/detect/train/weights/best.pt (deflated 9%)\n",
            "  adding: content/ultralytics/runs/detect/train/results.csv (deflated 84%)\n",
            "  adding: content/ultralytics/runs/detect/train/F1_curve.png (deflated 12%)\n",
            "  adding: content/ultralytics/runs/detect/train/val_batch0_pred.jpg (deflated 10%)\n",
            "  adding: content/ultralytics/runs/detect/train/R_curve.png (deflated 13%)\n",
            "  adding: content/ultralytics/runs/detect/train/train_batch1.jpg (deflated 1%)\n",
            "  adding: content/ultralytics/runs/detect/train/val_batch1_pred.jpg (deflated 12%)\n",
            "  adding: content/ultralytics/runs/detect/train/labels_correlogram.jpg (deflated 36%)\n",
            "  adding: content/ultralytics/runs/detect/train/args.yaml (deflated 52%)\n",
            "  adding: content/ultralytics/runs/detect/train/labels.jpg (deflated 28%)\n",
            "  adding: content/ultralytics/runs/detect/train/P_curve.png (deflated 15%)\n",
            "  adding: content/ultralytics/runs/detect/train/confusion_matrix.png (deflated 36%)\n",
            "  adding: content/ultralytics/runs/detect/train/results.png (deflated 7%)\n",
            "  adding: content/ultralytics/runs/detect/train/PR_curve.png (deflated 20%)\n",
            "  adding: content/ultralytics/runs/detect/train/confusion_matrix_normalized.png (deflated 32%)\n",
            "  adding: content/ultralytics/runs/detect/train/val_batch2_pred.jpg (deflated 10%)\n",
            "  adding: content/ultralytics/runs/detect/train/val_batch2_labels.jpg (deflated 10%)\n"
          ]
        }
      ]
    },
    {
      "cell_type": "markdown",
      "metadata": {
        "id": "4JnkELT0cIJg"
      },
      "source": [
        "# 1. Predict\n",
        "\n",
        "YOLOv8 may be used directly in the Command Line Interface (CLI) with a `yolo` command for a variety of tasks and modes and accepts additional arguments, i.e. `imgsz=640`. See a full list of available `yolo` [arguments](https://docs.ultralytics.com/usage/cfg/) and other details in the [YOLOv8 Predict Docs](https://docs.ultralytics.com/modes/train/).\n"
      ]
    },
    {
      "cell_type": "code",
      "execution_count": 15,
      "metadata": {
        "colab": {
          "base_uri": "https://localhost:8080/"
        },
        "id": "zR9ZbuQCH7FX",
        "outputId": "2f0415bd-6265-4fa7-abb7-2f3f41d58003"
      },
      "outputs": [
        {
          "output_type": "stream",
          "name": "stdout",
          "text": [
            "Ultralytics YOLOv8.0.118 🚀 Python-3.10.12 torch-2.0.1+cu118 CUDA:0 (Tesla T4, 15102MiB)\n",
            "Model summary (fused): 168 layers, 3006038 parameters, 0 gradients\n",
            "\n",
            "image 1/246 /content/ultralytics/glasses-detection-4/test/images/-4-_jpg.rf.5546ac78dd02e781078bed933ff8371f.jpg: 640x640 4 glassess, 14.7ms\n",
            "image 2/246 /content/ultralytics/glasses-detection-4/test/images/-8-_jpg.rf.da1adf785dfc57cf9b1911f7257e7c6a.jpg: 640x640 4 glassess, 7.3ms\n",
            "image 3/246 /content/ultralytics/glasses-detection-4/test/images/-Anti-Blue-Light-Computer-Glasses-Support-Prescription-Clear-Lens-Eyeglasses_jpg.rf.b936f6f8cecd40689be2901626608bfe.jpg: 640x640 1 sunglasses, 8.7ms\n",
            "image 4/246 /content/ultralytics/glasses-detection-4/test/images/0fd13c8a87dc67823ecd_jpg.rf.9d9fb31605ead602b14af491767a5234.jpg: 640x640 1 sunglasses, 7.3ms\n",
            "image 5/246 /content/ultralytics/glasses-detection-4/test/images/1-istock-617894388-man-glasses_jpg.rf.ce392f5baf45d191edaf32672c5936ca.jpg: 640x640 1 glasses, 7.3ms\n",
            "image 6/246 /content/ultralytics/glasses-detection-4/test/images/118_jpg.rf.cbdc2d20e5c9c6cbad997de65632c8a4.jpg: 640x640 1 glasses, 7.3ms\n",
            "image 7/246 /content/ultralytics/glasses-detection-4/test/images/14-828761-payne-glasses-review-1296x728-header-cedd88-1024x574_jpg.rf.e83ee648d88dce0fa46e7df3e9a8851f.jpg: 640x640 1 glasses, 7.3ms\n",
            "image 8/246 /content/ultralytics/glasses-detection-4/test/images/146_jpg.rf.26ef2b23f23be806f95ea91505d1a567.jpg: 640x640 1 glasses, 7.3ms\n",
            "image 9/246 /content/ultralytics/glasses-detection-4/test/images/147_jpg.rf.408e26e72333c1f77c02f9e27637e519.jpg: 640x640 1 glasses, 7.5ms\n",
            "image 10/246 /content/ultralytics/glasses-detection-4/test/images/16_jpg.rf.a29cc28284b97f4b6e9296d401693d70.jpg: 640x640 1 glasses, 8.5ms\n",
            "image 11/246 /content/ultralytics/glasses-detection-4/test/images/18dc1bf3a0a540fb19b4_jpg.rf.1788db02afd465271feca8c6001c8638.jpg: 640x640 1 sunglasses, 8.4ms\n",
            "image 12/246 /content/ultralytics/glasses-detection-4/test/images/1c9b3c74d601121921c6c99321f79ec9-coaches_jpg.rf.854c03a1196fc0b2d27c9a8bc9be3c55.jpg: 640x640 3 glassess, 7.4ms\n",
            "image 13/246 /content/ultralytics/glasses-detection-4/test/images/27_jpg.rf.61209aa5ed1ee36cb03bff5e49462f68.jpg: 640x640 1 sunglasses, 7.3ms\n",
            "image 14/246 /content/ultralytics/glasses-detection-4/test/images/28-5cd4f5b6200000320096481b_jpeg_jpg.rf.ed09e09595b74d90bc9d3ea9001007e4.jpg: 640x640 1 glasses, 7.3ms\n",
            "image 15/246 /content/ultralytics/glasses-detection-4/test/images/28f3d11c3465ce2e74d8a4d65861de51_jpg.rf.350f0406be66476a1b956ee1d234a58d.jpg: 640x640 1 sunglasses, 7.3ms\n",
            "image 16/246 /content/ultralytics/glasses-detection-4/test/images/32_jpg.rf.c3072e0b990782df4045272049a27956.jpg: 640x640 1 glasses, 7.3ms\n",
            "image 17/246 /content/ultralytics/glasses-detection-4/test/images/33_jpg.rf.e418f1b892ba45669d1af3114e174327.jpg: 640x640 1 glasses, 7.3ms\n",
            "image 18/246 /content/ultralytics/glasses-detection-4/test/images/34-man-glasses-computer_jpg.rf.21999c61577e9324f23b6493d7151966.jpg: 640x640 1 glasses, 8.1ms\n",
            "image 19/246 /content/ultralytics/glasses-detection-4/test/images/418ngUXoywL-_AC_SX466__jpg.rf.1e02cdcf089a37d9629cc58ca5cf277e.jpg: 640x640 1 glasses, 7.3ms\n",
            "image 20/246 /content/ultralytics/glasses-detection-4/test/images/47-banner-11_jpg.rf.7295d72cf62a56354ea738d712d62b6d.jpg: 640x640 1 glasses, 2 sunglassess, 7.8ms\n",
            "image 21/246 /content/ultralytics/glasses-detection-4/test/images/5646613689-500x500_jpeg_jpg.rf.2293a6edeb05fecccb4c7a6b25ed3aa7.jpg: 640x640 1 glasses, 7.9ms\n",
            "image 22/246 /content/ultralytics/glasses-detection-4/test/images/KateSpade-Eye-Jayla-0003_jpg.rf.157d3207ab1b0c961796ceb19286c425.jpg: 640x640 1 glasses, 7.5ms\n",
            "image 23/246 /content/ultralytics/glasses-detection-4/test/images/MAYBACH-6-731x411_jpg.rf.a9bdd7e68018981825142b6e7c4553ee.jpg: 640x640 2 sunglassess, 7.5ms\n",
            "image 24/246 /content/ultralytics/glasses-detection-4/test/images/Maybach-Eyewear-THE-OBSERVER-II-CHG-WI-Z57_jpg.rf.f563ebde0e685f358fc28e902e8d9c3a.jpg: 640x640 1 sunglasses, 7.9ms\n",
            "image 25/246 /content/ultralytics/glasses-detection-4/test/images/P8_jpg.rf.480e9a405306aa92a78c6aa4971f4cc1.jpg: 640x640 1 sunglasses, 8.2ms\n",
            "image 26/246 /content/ultralytics/glasses-detection-4/test/images/Progressive-Lenses-1024x576_jpg.rf.559e0d3e30e289ebb6bb01d981c90205.jpg: 640x640 1 glasses, 7.6ms\n",
            "image 27/246 /content/ultralytics/glasses-detection-4/test/images/Progressive-Lenses_jpg.rf.0c50b2b5af441dd62a47977ae14337dd.jpg: 640x640 1 glasses, 7.8ms\n",
            "image 28/246 /content/ultralytics/glasses-detection-4/test/images/Redex-Rectangle-Spectacle-Frame-Blue-SDL523019202-1-32586_jpeg_jpg.rf.28b40c98ce0e13428a2cde73378413a1.jpg: 640x640 1 glasses, 7.4ms\n",
            "image 29/246 /content/ultralytics/glasses-detection-4/test/images/Spectacles-Repaint-Before-After-03-2970x1100_jpg.rf.c1e4d5793919f176806c57320deb540b.jpg: 640x640 2 glassess, 9.9ms\n",
            "image 30/246 /content/ultralytics/glasses-detection-4/test/images/T492_jpg.rf.2345e445a88b937c72e0d935fc2dc7cf.jpg: 640x640 1 sunglasses, 7.8ms\n",
            "image 31/246 /content/ultralytics/glasses-detection-4/test/images/THE-OBSERVER-I-THE-OBSERVER-I-R-WI-Z22_front-scaled-e1607004875894_jpg.rf.832a995c9c7d12b38d0cfc900225f670.jpg: 640x640 1 sunglasses, 7.3ms\n",
            "image 32/246 /content/ultralytics/glasses-detection-4/test/images/THE-OBSERVER-II-CHG-WI-Z57_front-e1522922536334_jpg.rf.a701d5ea2152986ceb0b61943a0194be.jpg: 640x640 1 sunglasses, 7.3ms\n",
            "image 33/246 /content/ultralytics/glasses-detection-4/test/images/THE-OBSERVER-II-CHG-WI-Z57_front-scaled-e1589880174729-731x404_jpg.rf.aca3cd87e82a87ccd39a9534a98d3248.jpg: 640x640 1 sunglasses, 7.3ms\n",
            "image 34/246 /content/ultralytics/glasses-detection-4/test/images/THE-OBSERVER-II-R-HAG-Z06_front-e1522922035917_jpg.rf.ac8e5cc5e1ec7f21951b2281308b0dd8.jpg: 640x640 1 sunglasses, 7.9ms\n",
            "image 35/246 /content/ultralytics/glasses-detection-4/test/images/TheObserverIR-HAS-Z29GenfAutoShow_jpg.rf.deb77b7c1dfcfe8123742e4663c7da0f.jpg: 640x640 1 sunglasses, 7.8ms\n",
            "image 36/246 /content/ultralytics/glasses-detection-4/test/images/_1-JPG_jpg.rf.a09a534de6f1efc189eb4c4b34a7bcc5.jpg: 640x640 1 sunglasses, 7.6ms\n",
            "image 37/246 /content/ultralytics/glasses-detection-4/test/images/_1-JPG_jpg.rf.da09f3111bd82d93d12f177356dee682.jpg: 640x640 (no detections), 7.8ms\n",
            "image 38/246 /content/ultralytics/glasses-detection-4/test/images/a-pair-of-bifocal-glasses-on-top-of-an-nhs-optical-prescription-form-KC96K0_jpg.rf.cea678bb40d1bc3ef584f5a392d25c9c.jpg: 640x640 1 glasses, 7.8ms\n",
            "image 39/246 /content/ultralytics/glasses-detection-4/test/images/black-sun-glasses-on-a-sandy-beach-with-a-sea-background-F04E0Y_jpg.rf.b598c77b9c2eedb81727bff3debfce41.jpg: 640x640 1 sunglasses, 7.4ms\n",
            "image 40/246 /content/ultralytics/glasses-detection-4/test/images/glasses100_png_jpg.rf.20d715b5a6af3aab8ec93daf6cd9db04.jpg: 640x640 1 sunglasses, 13.6ms\n",
            "image 41/246 /content/ultralytics/glasses-detection-4/test/images/glasses11_png_jpg.rf.47155ad27ccc2e7dde904c4d6f76d400.jpg: 640x640 1 glasses, 7.3ms\n",
            "image 42/246 /content/ultralytics/glasses-detection-4/test/images/glasses120_png_jpg.rf.3511f5a630bf5b7eae1ca0945e89afe7.jpg: 640x640 1 sunglasses, 9.9ms\n",
            "image 43/246 /content/ultralytics/glasses-detection-4/test/images/glasses123_png_jpg.rf.0860f247933fe6dd2f4de9ed79400823.jpg: 640x640 1 sunglasses, 9.3ms\n",
            "image 44/246 /content/ultralytics/glasses-detection-4/test/images/glasses128_png_jpg.rf.c4f74a6b09ae4b3a8c284ad1a04a071b.jpg: 640x640 1 glasses, 7.3ms\n",
            "image 45/246 /content/ultralytics/glasses-detection-4/test/images/glasses132_png_jpg.rf.6435efa5ea56ced73a0194db0355b7c1.jpg: 640x640 1 sunglasses, 8.5ms\n",
            "image 46/246 /content/ultralytics/glasses-detection-4/test/images/glasses149_png_jpg.rf.e503c46cfa0e965debb56d8e88d77c30.jpg: 640x640 1 sunglasses, 7.3ms\n",
            "image 47/246 /content/ultralytics/glasses-detection-4/test/images/glasses175_png_jpg.rf.1571358f632083ddcb03d6c60fc0fe82.jpg: 640x640 2 sunglassess, 7.3ms\n",
            "image 48/246 /content/ultralytics/glasses-detection-4/test/images/glasses178_png_jpg.rf.cb5e01355395ec1736333cd2b4fe6cc5.jpg: 640x640 1 sunglasses, 7.3ms\n",
            "image 49/246 /content/ultralytics/glasses-detection-4/test/images/glasses180_png_jpg.rf.ec01ec4fe01b7447ef321b69194ce75e.jpg: 640x640 1 sunglasses, 7.3ms\n",
            "image 50/246 /content/ultralytics/glasses-detection-4/test/images/glasses184_png_jpg.rf.659bcd4a1db6c2480dee71e90e8c7dff.jpg: 640x640 2 sunglassess, 7.8ms\n",
            "image 51/246 /content/ultralytics/glasses-detection-4/test/images/glasses187_png_jpg.rf.4f6deddaac6de2b2672fc0df384ceaef.jpg: 640x640 1 sunglasses, 10.8ms\n",
            "image 52/246 /content/ultralytics/glasses-detection-4/test/images/glasses191_png_jpg.rf.a617685322d20af0435d1e4bf4c8d7c8.jpg: 640x640 1 sunglasses, 9.6ms\n",
            "image 53/246 /content/ultralytics/glasses-detection-4/test/images/glasses26_png_jpg.rf.7575d44d3fa0f513b6abafaa21afbc5d.jpg: 640x640 1 sunglasses, 7.6ms\n",
            "image 54/246 /content/ultralytics/glasses-detection-4/test/images/glasses32_png_jpg.rf.39d9e4325071c6ca5930ad5e8a0dd324.jpg: 640x640 1 sunglasses, 8.2ms\n",
            "image 55/246 /content/ultralytics/glasses-detection-4/test/images/glasses37_png_jpg.rf.7013b2eb166b5b86aacad6d27dcef25a.jpg: 640x640 1 glasses, 1 sunglasses, 7.6ms\n",
            "image 56/246 /content/ultralytics/glasses-detection-4/test/images/glasses72_png_jpg.rf.1dbfa526be5ba92142f08cbf5e7c9274.jpg: 640x640 2 sunglassess, 9.6ms\n",
            "image 57/246 /content/ultralytics/glasses-detection-4/test/images/glasses73_png_jpg.rf.c16ac9270c6e2e0284af6963604c88c6.jpg: 640x640 1 sunglasses, 10.9ms\n",
            "image 58/246 /content/ultralytics/glasses-detection-4/test/images/glasses74_png_jpg.rf.d710440e483a2b63fffc3a7707ec293f.jpg: 640x640 1 sunglasses, 8.6ms\n",
            "image 59/246 /content/ultralytics/glasses-detection-4/test/images/glasses80_png_jpg.rf.1e15cf37ac320f5e217a28f823dfe665.jpg: 640x640 1 sunglasses, 8.2ms\n",
            "image 60/246 /content/ultralytics/glasses-detection-4/test/images/glasses82_png_jpg.rf.10cacde85122f99c35415203fb10a93c.jpg: 640x640 1 sunglasses, 8.1ms\n",
            "image 61/246 /content/ultralytics/glasses-detection-4/test/images/glasses88_png_jpg.rf.74e209f486acb0d5752193646d983aed.jpg: 640x640 1 sunglasses, 8.4ms\n",
            "image 62/246 /content/ultralytics/glasses-detection-4/test/images/glasses8_png_jpg.rf.e9c5d2744ba31c8dcc82bafbf3497a9d.jpg: 640x640 1 glasses, 1 sunglasses, 7.8ms\n",
            "image 63/246 /content/ultralytics/glasses-detection-4/test/images/glasses92_png_jpg.rf.8ff02c8f52888abb697f2d6dd56a9a6e.jpg: 640x640 1 sunglasses, 9.3ms\n",
            "image 64/246 /content/ultralytics/glasses-detection-4/test/images/glasses9_png_jpg.rf.017663dbefbeb116088aae343404330d.jpg: 640x640 1 glasses, 1 sunglasses, 9.7ms\n",
            "image 65/246 /content/ultralytics/glasses-detection-4/test/images/il_fullxfull-3060037234_7w3w_jpg.rf.8e357c3b939ef45c61249b6bfa30b0d1.jpg: 640x640 1 glasses, 9.6ms\n",
            "image 66/246 /content/ultralytics/glasses-detection-4/test/images/image11_jpeg_jpg.rf.2c2143bced15d8cbc63b6876e33471eb.jpg: 640x640 1 sunglasses, 15.2ms\n",
            "image 67/246 /content/ultralytics/glasses-detection-4/test/images/image2_jpeg_jpg.rf.7da270db5acbd90d12fca468c5ee2969.jpg: 640x640 1 sunglasses, 9.8ms\n",
            "image 68/246 /content/ultralytics/glasses-detection-4/test/images/image5_jpeg_jpg.rf.e35058b661dbe52911f92ae3379c22b6.jpg: 640x640 1 sunglasses, 9.0ms\n",
            "image 69/246 /content/ultralytics/glasses-detection-4/test/images/image7_jpeg_jpg.rf.9e04d8cb8574935ddd0a6e75b7f7970e.jpg: 640x640 1 glasses, 10.9ms\n",
            "image 70/246 /content/ultralytics/glasses-detection-4/test/images/image9_jpeg_jpg.rf.c2878b7e468a69aa44b55f4992a7ada4.jpg: 640x640 2 sunglassess, 10.5ms\n",
            "image 71/246 /content/ultralytics/glasses-detection-4/test/images/image_jpeg_jpg.rf.5cf64015c6caba01e7e20f08cf98b2e3.jpg: 640x640 1 sunglasses, 10.2ms\n",
            "image 72/246 /content/ultralytics/glasses-detection-4/test/images/images-1-_jpg.rf.25b3e693edf4d136dded13050cd7ab94.jpg: 640x640 3 glassess, 10.4ms\n",
            "image 73/246 /content/ultralytics/glasses-detection-4/test/images/images-10-_jpg.rf.ccb807587202dea2461f48ca175b7679.jpg: 640x640 1 glasses, 10.3ms\n",
            "image 74/246 /content/ultralytics/glasses-detection-4/test/images/images-14-_jpg.rf.08ad917a68f87716fefe2496afaed850.jpg: 640x640 1 glasses, 10.1ms\n",
            "image 75/246 /content/ultralytics/glasses-detection-4/test/images/images-15-_jpg.rf.64fc027c60370b751956c8b991a5338e.jpg: 640x640 1 glasses, 12.1ms\n",
            "image 76/246 /content/ultralytics/glasses-detection-4/test/images/images-15-_jpg.rf.d4374789a9ff685d70e94f82007126be.jpg: 640x640 2 glassess, 10.1ms\n",
            "image 77/246 /content/ultralytics/glasses-detection-4/test/images/images-16-_jpg.rf.4e86a2e375ba96c149bf9cd49a13e202.jpg: 640x640 1 glasses, 10.4ms\n",
            "image 78/246 /content/ultralytics/glasses-detection-4/test/images/images-18-_jpg.rf.75a6bfa575488ce22e408a46b9b6f933.jpg: 640x640 4 glassess, 9.8ms\n",
            "image 79/246 /content/ultralytics/glasses-detection-4/test/images/images-3-_jpg.rf.6bb28c586a340da0cdad9738fb73a7b2.jpg: 640x640 1 glasses, 10.0ms\n",
            "image 80/246 /content/ultralytics/glasses-detection-4/test/images/images-4-_jpg.rf.3bd91fc5c3e9ccddf80ff3abb487c07d.jpg: 640x640 1 glasses, 9.7ms\n",
            "image 81/246 /content/ultralytics/glasses-detection-4/test/images/images-4-_jpg.rf.689b0b7c3e4308672519724f00472171.jpg: 640x640 3 glassess, 9.8ms\n",
            "image 82/246 /content/ultralytics/glasses-detection-4/test/images/images-5-_jpg.rf.ec8580b5ffb3a494045dff83260a7dd9.jpg: 640x640 3 glassess, 9.7ms\n",
            "image 83/246 /content/ultralytics/glasses-detection-4/test/images/images-8-_jpg.rf.fcd17b8d9a0ef5bb443569ceef8c4fc5.jpg: 640x640 1 glasses, 9.9ms\n",
            "image 84/246 /content/ultralytics/glasses-detection-4/test/images/images11_jpg.rf.6afddb74f27a89d536cdca1e40e83ad9.jpg: 640x640 1 glasses, 10.1ms\n",
            "image 85/246 /content/ultralytics/glasses-detection-4/test/images/images15_jpg.rf.6fe41c983504f095ba3e75ed20cafa33.jpg: 640x640 1 sunglasses, 10.1ms\n",
            "image 86/246 /content/ultralytics/glasses-detection-4/test/images/images18_jpg.rf.c8ba1169fd1272c77247c91ce8a0d8db.jpg: 640x640 1 sunglasses, 9.9ms\n",
            "image 87/246 /content/ultralytics/glasses-detection-4/test/images/images26_jpg.rf.f708fc72b36a22f32cf106052f2eb9b7.jpg: 640x640 1 glasses, 9.8ms\n",
            "image 88/246 /content/ultralytics/glasses-detection-4/test/images/images27_jpg.rf.d7e5cd2262b175dd2984e6a816a7a906.jpg: 640x640 1 sunglasses, 9.9ms\n",
            "image 89/246 /content/ultralytics/glasses-detection-4/test/images/images28_jpg.rf.95d7a3cc525c6acf5ebbd4dc0e232a76.jpg: 640x640 1 glasses, 9.9ms\n",
            "image 90/246 /content/ultralytics/glasses-detection-4/test/images/images2_jpg.rf.141a11b4cbb31b768e12b9a1e0292498.jpg: 640x640 3 glassess, 9.2ms\n",
            "image 91/246 /content/ultralytics/glasses-detection-4/test/images/images34_jpg.rf.b66ebaf19fe381db67f6bf99f4a3a415.jpg: 640x640 1 sunglasses, 8.2ms\n",
            "image 92/246 /content/ultralytics/glasses-detection-4/test/images/images34_jpg.rf.ca4992cfd4f5a22cdfb0baa9d4454b38.jpg: 640x640 1 glasses, 7.7ms\n",
            "image 93/246 /content/ultralytics/glasses-detection-4/test/images/images37_jpg.rf.73154a90174ce161c603c23728cc9ad6.jpg: 640x640 1 glasses, 7.3ms\n",
            "image 94/246 /content/ultralytics/glasses-detection-4/test/images/images38_jpg.rf.8a7b38aa626b4dd6404ee735676f5093.jpg: 640x640 1 glasses, 7.3ms\n",
            "image 95/246 /content/ultralytics/glasses-detection-4/test/images/images38_jpg.rf.f783b91949c582313741435e2ab20f13.jpg: 640x640 1 sunglasses, 7.3ms\n",
            "image 96/246 /content/ultralytics/glasses-detection-4/test/images/images39_jpg.rf.376c4f236bd8bb7360dcb30ea4b5d865.jpg: 640x640 1 glasses, 7.3ms\n",
            "image 97/246 /content/ultralytics/glasses-detection-4/test/images/images3_jpg.rf.a42367e77ee8faf59007326a97d0c9e8.jpg: 640x640 1 sunglasses, 7.4ms\n",
            "image 98/246 /content/ultralytics/glasses-detection-4/test/images/images42_jpg.rf.3e5506a5dfaad3353ddc853a8b29cb55.jpg: 640x640 1 sunglasses, 7.3ms\n",
            "image 99/246 /content/ultralytics/glasses-detection-4/test/images/images43_jpg.rf.81712d0bc704a7233065b277ba129974.jpg: 640x640 1 sunglasses, 7.3ms\n",
            "image 100/246 /content/ultralytics/glasses-detection-4/test/images/images48_jpg.rf.9b55ce51637b7ac385517903af9a2214.jpg: 640x640 1 sunglasses, 7.3ms\n",
            "image 101/246 /content/ultralytics/glasses-detection-4/test/images/images57_jpg.rf.e8fd0847429df2fa69434a4609e684da.jpg: 640x640 1 sunglasses, 7.3ms\n",
            "image 102/246 /content/ultralytics/glasses-detection-4/test/images/images58_jpg.rf.56041cbee33a0e72a97952d550300975.jpg: 640x640 1 glasses, 7.3ms\n",
            "image 103/246 /content/ultralytics/glasses-detection-4/test/images/images60_jpg.rf.6cb3f898585d9ef6bf4dc8a89946393a.jpg: 640x640 1 sunglasses, 7.3ms\n",
            "image 104/246 /content/ultralytics/glasses-detection-4/test/images/images60_jpg.rf.a7ccfdebb5bba80d4abf35351bdebf19.jpg: 640x640 4 glassess, 7.3ms\n",
            "image 105/246 /content/ultralytics/glasses-detection-4/test/images/images62_jpg.rf.28d4553c770a434db79d2cff7d9e5253.jpg: 640x640 1 glasses, 7.3ms\n",
            "image 106/246 /content/ultralytics/glasses-detection-4/test/images/images66_jpg.rf.3234d7cf626026b75699f79493d8c7c2.jpg: 640x640 1 sunglasses, 7.3ms\n",
            "image 107/246 /content/ultralytics/glasses-detection-4/test/images/images68_jpg.rf.4547d23ee472442b5e6e172ea3cefb5b.jpg: 640x640 1 glasses, 7.3ms\n",
            "image 108/246 /content/ultralytics/glasses-detection-4/test/images/images68_jpg.rf.78b0f876181ec76fe9d5fa25b37e3e2c.jpg: 640x640 1 sunglasses, 7.3ms\n",
            "image 109/246 /content/ultralytics/glasses-detection-4/test/images/images69_jpg.rf.e70bf35b63a11c17cb1e3cd2258eaa54.jpg: 640x640 1 sunglasses, 7.3ms\n",
            "image 110/246 /content/ultralytics/glasses-detection-4/test/images/images70_jpg.rf.88bc793164894583dafa209f6e54b008.jpg: 640x640 1 glasses, 7.3ms\n",
            "image 111/246 /content/ultralytics/glasses-detection-4/test/images/images71_jpg.rf.95ed0f324244096edf0fbb5a3a95293e.jpg: 640x640 2 sunglassess, 7.3ms\n",
            "image 112/246 /content/ultralytics/glasses-detection-4/test/images/images72_jpg.rf.25cd792aabd8c11c5a71d2681f3d0b93.jpg: 640x640 1 sunglasses, 7.3ms\n",
            "image 113/246 /content/ultralytics/glasses-detection-4/test/images/images74_jpg.rf.b3c2a89c1fd44769c8686bdfe23e2a29.jpg: 640x640 1 sunglasses, 7.3ms\n",
            "image 114/246 /content/ultralytics/glasses-detection-4/test/images/images75_jpg.rf.3671739225e49021b6a2d5198fc87d8b.jpg: 640x640 1 glasses, 7.3ms\n",
            "image 115/246 /content/ultralytics/glasses-detection-4/test/images/images76_jpg.rf.f90b14d2d02b3026de689ee59fba7646.jpg: 640x640 1 glasses, 7.3ms\n",
            "image 116/246 /content/ultralytics/glasses-detection-4/test/images/images77_jpg.rf.f7618caf217c3d12a0f1cb02a91b8f71.jpg: 640x640 1 sunglasses, 7.3ms\n",
            "image 117/246 /content/ultralytics/glasses-detection-4/test/images/images79_jpg.rf.1e38fb888248d3cea1c0a883f64ec6e4.jpg: 640x640 1 sunglasses, 7.3ms\n",
            "image 118/246 /content/ultralytics/glasses-detection-4/test/images/images79_jpg.rf.5f3591b7c570f33062e451d2e03f473c.jpg: 640x640 1 sunglasses, 7.3ms\n",
            "image 119/246 /content/ultralytics/glasses-detection-4/test/images/images7_jpg.rf.aae94705f42883a7cf626cb0209a2e40.jpg: 640x640 1 glasses, 7.3ms\n",
            "image 120/246 /content/ultralytics/glasses-detection-4/test/images/images7_jpg.rf.dede282ae3b17a631c4d218dda7d1571.jpg: 640x640 1 sunglasses, 7.3ms\n",
            "image 121/246 /content/ultralytics/glasses-detection-4/test/images/images_jpg.rf.77323ef62bcea07b43c818e3cd75eb9d.jpg: 640x640 1 glasses, 7.3ms\n",
            "image 122/246 /content/ultralytics/glasses-detection-4/test/images/images_jpg.rf.a74ab95e0132aef302e21581baf5a7d4.jpg: 640x640 1 sunglasses, 7.3ms\n",
            "image 123/246 /content/ultralytics/glasses-detection-4/test/images/k-uv400-11_jpg.rf.ce114e97344048f434df9ce3787c2c5b.jpg: 640x640 1 sunglasses, 7.3ms\n",
            "image 124/246 /content/ultralytics/glasses-detection-4/test/images/m_5aa98cf8077b97674aa6b5bf_jpg.rf.4f6d17cbff734cd30dc4bd7fe47a6caa.jpg: 640x640 1 glasses, 7.3ms\n",
            "image 125/246 /content/ultralytics/glasses-detection-4/test/images/m_5bafdf3d03087c68dd2297c5_jpg.rf.e372b7acc0d1f2cf2fabfa2ae46d4f19.jpg: 640x640 1 glasses, 7.3ms\n",
            "image 126/246 /content/ultralytics/glasses-detection-4/test/images/m_5cdb5a567f617f5b3ce3cf3d_jpg.rf.f65b6188ec7237ce9aa4dfc94aa7d44c.jpg: 640x640 2 glassess, 7.3ms\n",
            "image 127/246 /content/ultralytics/glasses-detection-4/test/images/m_5cfaa3aaabe1ce90b73a030e_jpg.rf.e29a575fb8c075c35f625225dbab911c.jpg: 640x640 1 glasses, 7.3ms\n",
            "image 128/246 /content/ultralytics/glasses-detection-4/test/images/m_5e48ab6d10f00f81a1b75c72_jpg.rf.1994e755ddfae80191d66597c7f1a896.jpg: 640x640 1 glasses, 7.3ms\n",
            "image 129/246 /content/ultralytics/glasses-detection-4/test/images/m_5ee87fd46f6c91fa5cd816f2_jpg.rf.7843000cea2d3245b7e68d2f2732bdf6.jpg: 640x640 3 sunglassess, 7.3ms\n",
            "image 130/246 /content/ultralytics/glasses-detection-4/test/images/m_5f3403f1074d2413dde55b04_jpg.rf.61d1ab9c6ffd95824b17ed38426c0846.jpg: 640x640 1 sunglasses, 7.3ms\n",
            "image 131/246 /content/ultralytics/glasses-detection-4/test/images/m_5f3403f267bd919ade027360_jpg.rf.5e71b4e1b7232687391a0cd81d962fef.jpg: 640x640 1 sunglasses, 7.3ms\n",
            "image 132/246 /content/ultralytics/glasses-detection-4/test/images/m_5f3407c412d880bb0ba9e0cc_jpg.rf.b9ce601a997bb9641620ecd6c9e0d84c.jpg: 640x640 (no detections), 7.3ms\n",
            "image 133/246 /content/ultralytics/glasses-detection-4/test/images/manish_arora_eyeglasses_with_blue_filter_lenses_no_grade_1559307375_2d19a9b9_progressive_jpg.rf.719d6195b4f3349a289e9e34d048b37a.jpg: 640x640 1 glasses, 7.3ms\n",
            "image 134/246 /content/ultralytics/glasses-detection-4/test/images/maxresdefault_jpg.rf.349cf221ac3d81e0c633bf142e1398ac.jpg: 640x640 1 glasses, 7.3ms\n",
            "image 135/246 /content/ultralytics/glasses-detection-4/test/images/maybach-replica-sunglasses-designers-village-783999_jpg.rf.eacc3b2cfbf0c84c0ef49332cce51eba.jpg: 640x640 1 sunglasses, 7.3ms\n",
            "image 136/246 /content/ultralytics/glasses-detection-4/test/images/maybach-the-premier-i-1_min_jpg.rf.6271c2815e006e7c8ea3c3277d4d59e1.jpg: 640x640 1 sunglasses, 7.3ms\n",
            "image 137/246 /content/ultralytics/glasses-detection-4/test/images/rBVaVF3JIOiADOqTAAI333BgS2g291_jpg.rf.e9fd3160037445a60e1d451d17749368.jpg: 640x640 3 sunglassess, 7.3ms\n",
            "image 138/246 /content/ultralytics/glasses-detection-4/test/images/rBVaVVzmQsCAQqAaAAFS6j05jmQ952_jpg.rf.74c49cca54180912be65155e3dae3412.jpg: 640x640 1 sunglasses, 7.3ms\n",
            "image 139/246 /content/ultralytics/glasses-detection-4/test/images/rBVaWFzmRnSAIrS4AAGDJ4PW8FM806_jpg.rf.9e4b6b05128337e397801f81934e74cc.jpg: 640x640 1 sunglasses, 7.3ms\n",
            "image 140/246 /content/ultralytics/glasses-detection-4/test/images/reflection-of-building-on-sunglasses-FETGFN_jpg.rf.e164cef38f387e2944c708ad2606f837.jpg: 640x640 1 sunglasses, 7.3ms\n",
            "image 141/246 /content/ultralytics/glasses-detection-4/test/images/rubber-reading-eye-glasses-frame-250x250_jpg.rf.58ea5bbca44032eeb04e8013930a33d5.jpg: 640x640 1 glasses, 7.8ms\n",
            "image 142/246 /content/ultralytics/glasses-detection-4/test/images/s-l160010_jpg.rf.ef5af061070240fd35310182f583fa99.jpg: 640x640 1 sunglasses, 7.3ms\n",
            "image 143/246 /content/ultralytics/glasses-detection-4/test/images/s-l16002_jpg.rf.20c0fa273d86efe21969448850d21b1c.jpg: 640x640 2 sunglassess, 7.3ms\n",
            "image 144/246 /content/ultralytics/glasses-detection-4/test/images/s-l16003_jpg.rf.37e468cf0ec9e8c1d752c97664295f10.jpg: 640x640 1 glasses, 1 sunglasses, 7.3ms\n",
            "image 145/246 /content/ultralytics/glasses-detection-4/test/images/s-l16003_jpg.rf.a6e3c3ba472a9de1c3004d9e7c321e8a.jpg: 640x640 1 sunglasses, 7.3ms\n",
            "image 146/246 /content/ultralytics/glasses-detection-4/test/images/s-l16004_jpg.rf.c7325f25c4f06ba346bc1f65c5740d0e.jpg: 640x640 1 sunglasses, 7.3ms\n",
            "image 147/246 /content/ultralytics/glasses-detection-4/test/images/s-l16007_jpg.rf.aea8e64a9a7167037ebc38b34135cd9e.jpg: 640x640 1 sunglasses, 7.3ms\n",
            "image 148/246 /content/ultralytics/glasses-detection-4/test/images/s-l16008_jpg.rf.1f02b0f8cd92a88cec23f7fbdc607313.jpg: 640x640 1 sunglasses, 7.3ms\n",
            "image 149/246 /content/ultralytics/glasses-detection-4/test/images/s-l16009_jpg.rf.507b3e4c8bde8d9dba8069db9b522f83.jpg: 640x640 1 sunglasses, 7.3ms\n",
            "image 150/246 /content/ultralytics/glasses-detection-4/test/images/s-l1600_jpg.rf.56a60994f1935a2f3a6e34f813a70e75.jpg: 640x640 1 glasses, 7.3ms\n",
            "image 151/246 /content/ultralytics/glasses-detection-4/test/images/s-l1600_jpg.rf.f1e5b05773380088e2bba80834cea818.jpg: 640x640 1 sunglasses, 7.3ms\n",
            "image 152/246 /content/ultralytics/glasses-detection-4/test/images/s-l225_jpg.rf.b6da42459a429b80c1ae718724f75154.jpg: 640x640 1 sunglasses, 7.3ms\n",
            "image 153/246 /content/ultralytics/glasses-detection-4/test/images/s-l30012_jpg.rf.4ed201ff75a8cc507869e93ad08879dd.jpg: 640x640 1 sunglasses, 7.9ms\n",
            "image 154/246 /content/ultralytics/glasses-detection-4/test/images/s-l30016_jpg.rf.ddf6e9f9221e0d763cab0243075a6b96.jpg: 640x640 1 sunglasses, 7.3ms\n",
            "image 155/246 /content/ultralytics/glasses-detection-4/test/images/s-l30020_jpg.rf.2999f24fb155f20a949399bc3903f252.jpg: 640x640 1 glasses, 8.0ms\n",
            "image 156/246 /content/ultralytics/glasses-detection-4/test/images/s-l30022_jpg.rf.de7a253f5a541a89c78c9a879ae1f5b1.jpg: 640x640 1 sunglasses, 7.3ms\n",
            "image 157/246 /content/ultralytics/glasses-detection-4/test/images/s-l3002_jpg.rf.0976c1e0510fca670dab30774618aba3.jpg: 640x640 2 glassess, 7.3ms\n",
            "image 158/246 /content/ultralytics/glasses-detection-4/test/images/s-l3002_jpg.rf.32cb4ff4f18627dfc96b5a6c6e115767.jpg: 640x640 4 glassess, 7.3ms\n",
            "image 159/246 /content/ultralytics/glasses-detection-4/test/images/s-l3002_jpg.rf.85a44797a9a9e10d82d8437b1d4fdff3.jpg: 640x640 1 sunglasses, 7.3ms\n",
            "image 160/246 /content/ultralytics/glasses-detection-4/test/images/s-l3003_jpg.rf.7ed722deaa2b21872fdf0599b1153bf7.jpg: 640x640 1 sunglasses, 7.3ms\n",
            "image 161/246 /content/ultralytics/glasses-detection-4/test/images/s-l3003_jpg.rf.b7e54e6e25ef944a6e0e2c4fd548728b.jpg: 640x640 1 glasses, 7.3ms\n",
            "image 162/246 /content/ultralytics/glasses-detection-4/test/images/s-l3004_jpg.rf.cb4514a67d65f0507055002ba7e627a1.jpg: 640x640 1 sunglasses, 7.3ms\n",
            "image 163/246 /content/ultralytics/glasses-detection-4/test/images/s-l3004_jpg.rf.d6fef6a50334487aeaea366c4b315acc.jpg: 640x640 1 glasses, 7.3ms\n",
            "image 164/246 /content/ultralytics/glasses-detection-4/test/images/s-l3005_jpg.rf.5d3612411fabd5acc7059477b1b859d2.jpg: 640x640 1 sunglasses, 7.3ms\n",
            "image 165/246 /content/ultralytics/glasses-detection-4/test/images/s-l3005_jpg.rf.e36ae68164584282c8f6f681e05618b6.jpg: 640x640 1 glasses, 7.4ms\n",
            "image 166/246 /content/ultralytics/glasses-detection-4/test/images/s-l3007_jpg.rf.64e1c19f66cb782820357f06813b7133.jpg: 640x640 3 sunglassess, 7.3ms\n",
            "image 167/246 /content/ultralytics/glasses-detection-4/test/images/s-l3009_jpg.rf.da678618d039a882fcb6ae0928f63145.jpg: 640x640 1 sunglasses, 7.3ms\n",
            "image 168/246 /content/ultralytics/glasses-detection-4/test/images/s-l300_jpg.rf.02f71fb0c1cf03693d174717c050bc1c.jpg: 640x640 1 glasses, 9.0ms\n",
            "image 169/246 /content/ultralytics/glasses-detection-4/test/images/s-l300_jpg.rf.3ef1f36f4ccea7ea8df5d7b0c653223a.jpg: 640x640 1 sunglasses, 7.3ms\n",
            "image 170/246 /content/ultralytics/glasses-detection-4/test/images/s-l300_jpg.rf.7a9387665ae05aadd3b7e5bc6aa7a1bd.jpg: 640x640 1 glasses, 7.8ms\n",
            "image 171/246 /content/ultralytics/glasses-detection-4/test/images/s-l40010_jpg.rf.a2763e87e15a0908c2b09983775dd72f.jpg: 640x640 2 sunglassess, 7.3ms\n",
            "image 172/246 /content/ultralytics/glasses-detection-4/test/images/s-l40011_jpg.rf.4e8d625fff91e9d1473d465a2cddc64a.jpg: 640x640 1 sunglasses, 7.3ms\n",
            "image 173/246 /content/ultralytics/glasses-detection-4/test/images/s-l4002_jpg.rf.2126ecef37c3f59b7f9e1e5200b8312e.jpg: 640x640 1 sunglasses, 7.3ms\n",
            "image 174/246 /content/ultralytics/glasses-detection-4/test/images/s-l4002_jpg.rf.e6310115cdac1afba29ae675bd3c46cd.jpg: 640x640 1 glasses, 2 sunglassess, 7.3ms\n",
            "image 175/246 /content/ultralytics/glasses-detection-4/test/images/s-l4003_jpg.rf.5a30ade692fa2a35d4e4cc1dc40ac66e.jpg: 640x640 1 sunglasses, 7.3ms\n",
            "image 176/246 /content/ultralytics/glasses-detection-4/test/images/s-l4003_jpg.rf.b6ccfae0d992568a1c6cac4a19b6773b.jpg: 640x640 2 glassess, 1 sunglasses, 7.3ms\n",
            "image 177/246 /content/ultralytics/glasses-detection-4/test/images/s-l4004_jpg.rf.6842ead9dded20d5d8924227b7f7926a.jpg: 640x640 2 sunglassess, 7.3ms\n",
            "image 178/246 /content/ultralytics/glasses-detection-4/test/images/s-l4004_jpg.rf.9d41ccec8a9389317668f9dad18e98e3.jpg: 640x640 1 glasses, 7.4ms\n",
            "image 179/246 /content/ultralytics/glasses-detection-4/test/images/s-l4005_jpg.rf.3e4d7a00401b2015018f8d860f18f510.jpg: 640x640 2 sunglassess, 7.3ms\n",
            "image 180/246 /content/ultralytics/glasses-detection-4/test/images/s-l4005_jpg.rf.55622cc93ce2f3e1782c31bd5e553782.jpg: 640x640 1 glasses, 1 sunglasses, 7.3ms\n",
            "image 181/246 /content/ultralytics/glasses-detection-4/test/images/s-l4005_jpg.rf.6372cf58d943ad287fa25d7e86bb6006.jpg: 640x640 1 glasses, 7.3ms\n",
            "image 182/246 /content/ultralytics/glasses-detection-4/test/images/s-l4006_jpg.rf.86a5d437105694b4e9ad390d354bb401.jpg: 640x640 1 sunglasses, 7.3ms\n",
            "image 183/246 /content/ultralytics/glasses-detection-4/test/images/s-l4006_jpg.rf.94e89fde711538774e547d58106c0aa1.jpg: 640x640 1 glasses, 7.3ms\n",
            "image 184/246 /content/ultralytics/glasses-detection-4/test/images/s-l4007_jpg.rf.35954a6350962e7b0b3c32bf8e9b8c85.jpg: 640x640 1 sunglasses, 7.3ms\n",
            "image 185/246 /content/ultralytics/glasses-detection-4/test/images/s-l4007_jpg.rf.da85780f49b0a45ac461780f1cbe619d.jpg: 640x640 1 glasses, 7.3ms\n",
            "image 186/246 /content/ultralytics/glasses-detection-4/test/images/s-l4008_jpg.rf.71fdda3c9187a6e801e05a80adad61c3.jpg: 640x640 1 sunglasses, 7.3ms\n",
            "image 187/246 /content/ultralytics/glasses-detection-4/test/images/s-l4008_jpg.rf.b8f14b498ffaff3ec10896fdee934cb1.jpg: 640x640 6 glassess, 1 sunglasses, 7.3ms\n",
            "image 188/246 /content/ultralytics/glasses-detection-4/test/images/s-l4009_jpg.rf.6fb26f8bcc744bd107186a7dd1c33094.jpg: 640x640 1 sunglasses, 7.3ms\n",
            "image 189/246 /content/ultralytics/glasses-detection-4/test/images/s-l4009_jpg.rf.7a9822850b7966f6ad934ebd3582e03e.jpg: 640x640 1 sunglasses, 7.2ms\n",
            "image 190/246 /content/ultralytics/glasses-detection-4/test/images/s-l400_jpg.rf.3c8e0ad23ce6e1a66102b2827faf4bc6.jpg: 640x640 1 sunglasses, 7.3ms\n",
            "image 191/246 /content/ultralytics/glasses-detection-4/test/images/s-l400_jpg.rf.7ced7bd58c2d2e480b7179c87c49ab93.jpg: 640x640 1 glasses, 7.3ms\n",
            "image 192/246 /content/ultralytics/glasses-detection-4/test/images/s-l50010_jpg.rf.19cc5f02dad60aea3cebad76ee65df04.jpg: 640x640 1 sunglasses, 7.3ms\n",
            "image 193/246 /content/ultralytics/glasses-detection-4/test/images/s-l50011_jpg.rf.3b9e127f47c7f5b53f008841c8651982.jpg: 640x640 1 sunglasses, 7.3ms\n",
            "image 194/246 /content/ultralytics/glasses-detection-4/test/images/s-l50012_jpg.rf.7be1ea5e553e2bcffd3b4767496ca905.jpg: 640x640 1 sunglasses, 7.3ms\n",
            "image 195/246 /content/ultralytics/glasses-detection-4/test/images/s-l50013_jpg.rf.902618eb524689378abf5dfc4ff65349.jpg: 640x640 1 sunglasses, 7.3ms\n",
            "image 196/246 /content/ultralytics/glasses-detection-4/test/images/s-l5002_jpg.rf.096afea2f43755e67ad823e7d9af2c18.jpg: 640x640 1 glasses, 7.3ms\n",
            "image 197/246 /content/ultralytics/glasses-detection-4/test/images/s-l5002_jpg.rf.322cc4d379e6a2af9447c53fc77724c2.jpg: 640x640 1 sunglasses, 7.3ms\n",
            "image 198/246 /content/ultralytics/glasses-detection-4/test/images/s-l5003_jpg.rf.c681e0b6aca0588d7ef1f045c91eeeff.jpg: 640x640 1 glasses, 7.3ms\n",
            "image 199/246 /content/ultralytics/glasses-detection-4/test/images/s-l5003_jpg.rf.ee8186b989667e36b7e489f9a809078b.jpg: 640x640 1 sunglasses, 7.3ms\n",
            "image 200/246 /content/ultralytics/glasses-detection-4/test/images/s-l5004_jpg.rf.47b694321a3f4d2a2139958223a44c31.jpg: 640x640 1 glasses, 7.3ms\n",
            "image 201/246 /content/ultralytics/glasses-detection-4/test/images/s-l5004_jpg.rf.65959c9c37a94199725d32eedf8776ab.jpg: 640x640 2 sunglassess, 7.3ms\n",
            "image 202/246 /content/ultralytics/glasses-detection-4/test/images/s-l5005_jpg.rf.971eadd6a78d9503a577a447fbff3413.jpg: 640x640 1 sunglasses, 7.3ms\n",
            "image 203/246 /content/ultralytics/glasses-detection-4/test/images/s-l5005_jpg.rf.fba0b536c465de98968304300056715b.jpg: 640x640 1 glasses, 7.3ms\n",
            "image 204/246 /content/ultralytics/glasses-detection-4/test/images/s-l5006_jpg.rf.8ed834cffe0d9b0f08eabf3393eb57b3.jpg: 640x640 1 glasses, 7.3ms\n",
            "image 205/246 /content/ultralytics/glasses-detection-4/test/images/s-l5006_jpg.rf.f0063b4c868bb5e9e5fcab4c106b929d.jpg: 640x640 1 sunglasses, 7.3ms\n",
            "image 206/246 /content/ultralytics/glasses-detection-4/test/images/s-l5007_jpg.rf.12eb91c1bba149fb22f973b2836ab7b5.jpg: 640x640 1 glasses, 7.3ms\n",
            "image 207/246 /content/ultralytics/glasses-detection-4/test/images/s-l5007_jpg.rf.bafde2de5cf0287a06e861cdcaaca2e9.jpg: 640x640 1 sunglasses, 7.3ms\n",
            "image 208/246 /content/ultralytics/glasses-detection-4/test/images/s-l5008_jpg.rf.6005b0de36d6f33559e91bed75902627.jpg: 640x640 1 glasses, 7.3ms\n",
            "image 209/246 /content/ultralytics/glasses-detection-4/test/images/s-l5008_jpg.rf.760053d8c6569bc2cb2077f6ffc28ad4.jpg: 640x640 1 sunglasses, 7.3ms\n",
            "image 210/246 /content/ultralytics/glasses-detection-4/test/images/s-l5009_jpg.rf.b746e833478c6aa3876b3193c7ff8713.jpg: 640x640 3 sunglassess, 7.3ms\n",
            "image 211/246 /content/ultralytics/glasses-detection-4/test/images/s-l500_jpg.rf.49b9e23c620e79cc98fd0751588f2552.jpg: 640x640 1 sunglasses, 7.3ms\n",
            "image 212/246 /content/ultralytics/glasses-detection-4/test/images/s-l500_jpg.rf.65892d6864af36a37950aef42bd2195b.jpg: 640x640 1 glasses, 7.3ms\n",
            "image 213/246 /content/ultralytics/glasses-detection-4/test/images/s-l6402_jpg.rf.0f2662331f42e2248164cfa77ccd8e94.jpg: 640x640 1 glasses, 1 sunglasses, 7.3ms\n",
            "image 214/246 /content/ultralytics/glasses-detection-4/test/images/s-l640_jpg.rf.a8bf94cdfd9fd56bf4a9683a0b760c35.jpg: 640x640 1 sunglasses, 7.3ms\n",
            "image 215/246 /content/ultralytics/glasses-detection-4/test/images/s_5a931f678af1c53c07c3b9a0_jpg.rf.9ea8aac319e69f02560c168c48e04391.jpg: 640x640 1 glasses, 7.2ms\n",
            "image 216/246 /content/ultralytics/glasses-detection-4/test/images/s_5bdc5ee55c4452f015642c13_jpg.rf.d1ce21fad8d1b615b0341fc722300ba9.jpg: 640x640 1 glasses, 7.3ms\n",
            "image 217/246 /content/ultralytics/glasses-detection-4/test/images/s_5e48ab6d10f00f81a1b75c72_jpg.rf.e8c3019ab5b943be0082064bce395624.jpg: 640x640 1 glasses, 8.2ms\n",
            "image 218/246 /content/ultralytics/glasses-detection-4/test/images/s_5e82241eb3e917b3b62a979d_jpg.rf.3e72fd11f70a81876bd84af0d460516f.jpg: 640x640 1 glasses, 7.3ms\n",
            "image 219/246 /content/ultralytics/glasses-detection-4/test/images/s_5f4db6919c337859426a773b_jpg.rf.c0dd24da3e05da9a6b2f349611175dc1.jpg: 640x640 2 glassess, 7.2ms\n",
            "image 220/246 /content/ultralytics/glasses-detection-4/test/images/s_5f5e47a0bcbb52c07525475b_jpg.rf.8c2c0c90d7b46189c3e6b8d6613a56bb.jpg: 640x640 2 glassess, 7.3ms\n",
            "image 221/246 /content/ultralytics/glasses-detection-4/test/images/s_5f6b58399e1559bc10cb9345_jpeg_jpg.rf.fd32f7957396b7eb0f1ea11d86b5dfbd.jpg: 640x640 1 glasses, 7.3ms\n",
            "image 222/246 /content/ultralytics/glasses-detection-4/test/images/s_5fd52def633cfc9271f31f25_jpg.rf.7130a4364e9f80c554aea78fd0e6be7c.jpg: 640x640 1 glasses, 7.3ms\n",
            "image 223/246 /content/ultralytics/glasses-detection-4/test/images/s_600cf80ae13164edf68ac01b_jpg.rf.ff34cf8615b48ecec80a964eab9f6d0a.jpg: 640x640 1 glasses, 7.3ms\n",
            "image 224/246 /content/ultralytics/glasses-detection-4/test/images/s_6140e55d67bd915ba9e82850_jpg.rf.46502750ca198c5eee222793c9b6b721.jpg: 640x640 1 glasses, 7.2ms\n",
            "image 225/246 /content/ultralytics/glasses-detection-4/test/images/s_6186ee4b3cda884999409391_jpg.rf.60fd6fa746e6447060ee8e0a3620dba6.jpg: 640x640 1 glasses, 7.3ms\n",
            "image 226/246 /content/ultralytics/glasses-detection-4/test/images/s_630f91a97dfcc20848bcedaa_jpg.rf.d394d58eea3f12c164197d8e2b80f2bd.jpg: 640x640 1 sunglasses, 7.3ms\n",
            "image 227/246 /content/ultralytics/glasses-detection-4/test/images/sun-glasses-beach-near-sea-yellow-sunglasses-background-wave-shore-tropical-island-120120985_jpg.rf.ed1512b0db74296a85719df8314268ac.jpg: 640x640 1 sunglasses, 7.3ms\n",
            "image 228/246 /content/ultralytics/glasses-detection-4/test/images/sunglasses-on-a-table-2HAJF28_jpg.rf.77127fc756c0f9cbdb5f4063365d363b.jpg: 640x640 2 glassess, 7.3ms\n",
            "image 229/246 /content/ultralytics/glasses-detection-4/test/images/sunglasses-summer-fashion-accessories-objects-bedroom-royalty-free-thumbnail_jpg.rf.58853bfb0334df3099f8435e793c86bc.jpg: 640x640 1 sunglasses, 7.6ms\n",
            "image 230/246 /content/ultralytics/glasses-detection-4/test/images/sunwear-germany-craft-sunglas-the-dawn-sunglasses_jpg.rf.2f88aa2ce39c7640b2e99a3c81d3d265.jpg: 640x640 1 sunglasses, 7.3ms\n",
            "image 231/246 /content/ultralytics/glasses-detection-4/test/images/swatch_spectacles_frame_1478357369_3927b900_jpg.rf.60164521f0b92b919fc9cc264e06b8d3.jpg: 640x640 1 glasses, 7.3ms\n",
            "image 232/246 /content/ultralytics/glasses-detection-4/test/images/top-luxury-k-gold-men-eyewear-car-brand-maybach2_jpg.rf.bb5829d9ea55766327af7a8588d7bb0b.jpg: 640x640 1 sunglasses, 7.3ms\n",
            "image 233/246 /content/ultralytics/glasses-detection-4/test/images/top-luxury-k-gold-men-eyewear-car-brand-maybach_jpg.rf.5eb2c15d49abac7bece50c11efa14d43.jpg: 640x640 1 sunglasses, 7.3ms\n",
            "image 234/246 /content/ultralytics/glasses-detection-4/test/images/vision-therapy-supporting-image-sunglasses_jpg.rf.f37940f54b1edd739ef5df803d6151fb.jpg: 640x640 1 glasses, 1 sunglasses, 7.3ms\n",
            "image 235/246 /content/ultralytics/glasses-detection-4/test/images/women-with-glass_515_jpg.rf.1db60f27038ab1b70d8e48a91afa7922.jpg: 640x640 1 glasses, 7.3ms\n",
            "image 236/246 /content/ultralytics/glasses-detection-4/test/images/women-with-glass_525_jpg.rf.7e6d9036c6e7fe7e1c5a552a8984de25.jpg: 640x640 1 glasses, 7.3ms\n",
            "image 237/246 /content/ultralytics/glasses-detection-4/test/images/women-with-glass_55_jpg.rf.3962bd4c0744c02512d26e62337ce364.jpg: 640x640 1 glasses, 7.3ms\n",
            "image 238/246 /content/ultralytics/glasses-detection-4/test/images/women-with-glass_56_jpg.rf.e9a6e357337da33015df70c6499e40f2.jpg: 640x640 1 glasses, 8.5ms\n",
            "image 239/246 /content/ultralytics/glasses-detection-4/test/images/women-with-glass_57_jpg.rf.2ab203b16a8f47da71292e8c749fc998.jpg: 640x640 1 glasses, 7.3ms\n",
            "image 240/246 /content/ultralytics/glasses-detection-4/test/images/women-with-glass_62_jpg.rf.071acfa7531680d63a14c34a2675e4fc.jpg: 640x640 1 glasses, 8.4ms\n",
            "image 241/246 /content/ultralytics/glasses-detection-4/test/images/women-with-glass_72_jpg.rf.e82cfb4c41e1aff43bf96ab5e5140e7e.jpg: 640x640 3 glassess, 7.3ms\n",
            "image 242/246 /content/ultralytics/glasses-detection-4/test/images/women-with-glass_79_jpg.rf.8754aaf2c001ac872c8430c23ffc342e.jpg: 640x640 1 glasses, 7.3ms\n",
            "image 243/246 /content/ultralytics/glasses-detection-4/test/images/women-with-glass_81_jpg.rf.16e2b4e86b957ba00fad5818c0804579.jpg: 640x640 1 glasses, 7.3ms\n",
            "image 244/246 /content/ultralytics/glasses-detection-4/test/images/women-with-glass_95_jpg.rf.15679a3e96394d5433dbb7f572048acc.jpg: 640x640 1 glasses, 7.3ms\n",
            "image 245/246 /content/ultralytics/glasses-detection-4/test/images/zipangu_citizen_eyewear_1621531026_01e5d892_jpg.rf.1d00981999ea4e81d2644d26eb9d8929.jpg: 640x640 1 glasses, 7.3ms\n",
            "image 246/246 /content/ultralytics/glasses-detection-4/test/images/zoo_york_eyeglasses_frame_1518333833_4f7ba12f_jpg.rf.e20afc399c73064a87b72e465ea787fc.jpg: 640x640 1 glasses, 7.3ms\n",
            "Speed: 1.5ms preprocess, 7.9ms inference, 1.6ms postprocess per image at shape (1, 3, 640, 640)\n",
            "Results saved to \u001b[1m/content/ultralytics/runs/detect/predict\u001b[0m\n"
          ]
        }
      ],
      "source": [
        "# Run inference on an image with YOLOv8n\n",
        "!yolo predict model=/content/ultralytics/runs/detect/train/weights/best.pt data=/content/ultralytics/glasses-detection-4/data.yaml source='/content/ultralytics/glasses-detection-4/test/images'"
      ]
    },
    {
      "cell_type": "code",
      "source": [
        "!zip -r predict.zip /content/ultralytics/runs/detect/predict"
      ],
      "metadata": {
        "colab": {
          "base_uri": "https://localhost:8080/"
        },
        "id": "lc2R-Cy4xN-p",
        "outputId": "c73e5d92-e8c9-46cc-f423-d694a591b84f"
      },
      "execution_count": 16,
      "outputs": [
        {
          "output_type": "stream",
          "name": "stdout",
          "text": [
            "  adding: content/ultralytics/runs/detect/predict/ (stored 0%)\n",
            "  adding: content/ultralytics/runs/detect/predict/s-l4002_jpg.rf.2126ecef37c3f59b7f9e1e5200b8312e.jpg (deflated 7%)\n",
            "  adding: content/ultralytics/runs/detect/predict/s_5f4db6919c337859426a773b_jpg.rf.c0dd24da3e05da9a6b2f349611175dc1.jpg (deflated 7%)\n",
            "  adding: content/ultralytics/runs/detect/predict/s-l50011_jpg.rf.3b9e127f47c7f5b53f008841c8651982.jpg (deflated 6%)\n",
            "  adding: content/ultralytics/runs/detect/predict/s-l16003_jpg.rf.a6e3c3ba472a9de1c3004d9e7c321e8a.jpg (deflated 14%)\n",
            "  adding: content/ultralytics/runs/detect/predict/THE-OBSERVER-I-THE-OBSERVER-I-R-WI-Z22_front-scaled-e1607004875894_jpg.rf.832a995c9c7d12b38d0cfc900225f670.jpg (deflated 31%)\n",
            "  adding: content/ultralytics/runs/detect/predict/s-l4008_jpg.rf.b8f14b498ffaff3ec10896fdee934cb1.jpg (deflated 8%)\n",
            "  adding: content/ultralytics/runs/detect/predict/s-l5007_jpg.rf.12eb91c1bba149fb22f973b2836ab7b5.jpg (deflated 7%)\n",
            "  adding: content/ultralytics/runs/detect/predict/s-l640_jpg.rf.a8bf94cdfd9fd56bf4a9683a0b760c35.jpg (deflated 8%)\n",
            "  adding: content/ultralytics/runs/detect/predict/Redex-Rectangle-Spectacle-Frame-Blue-SDL523019202-1-32586_jpeg_jpg.rf.28b40c98ce0e13428a2cde73378413a1.jpg (deflated 22%)\n",
            "  adding: content/ultralytics/runs/detect/predict/34-man-glasses-computer_jpg.rf.21999c61577e9324f23b6493d7151966.jpg (deflated 6%)\n",
            "  adding: content/ultralytics/runs/detect/predict/s-l4007_jpg.rf.da85780f49b0a45ac461780f1cbe619d.jpg (deflated 9%)\n",
            "  adding: content/ultralytics/runs/detect/predict/118_jpg.rf.cbdc2d20e5c9c6cbad997de65632c8a4.jpg (deflated 8%)\n",
            "  adding: content/ultralytics/runs/detect/predict/image9_jpeg_jpg.rf.c2878b7e468a69aa44b55f4992a7ada4.jpg (deflated 17%)\n",
            "  adding: content/ultralytics/runs/detect/predict/image7_jpeg_jpg.rf.9e04d8cb8574935ddd0a6e75b7f7970e.jpg (deflated 37%)\n",
            "  adding: content/ultralytics/runs/detect/predict/glasses180_png_jpg.rf.ec01ec4fe01b7447ef321b69194ce75e.jpg (deflated 3%)\n",
            "  adding: content/ultralytics/runs/detect/predict/maybach-replica-sunglasses-designers-village-783999_jpg.rf.eacc3b2cfbf0c84c0ef49332cce51eba.jpg (deflated 4%)\n",
            "  adding: content/ultralytics/runs/detect/predict/s_6140e55d67bd915ba9e82850_jpg.rf.46502750ca198c5eee222793c9b6b721.jpg (deflated 4%)\n",
            "  adding: content/ultralytics/runs/detect/predict/s-l400_jpg.rf.3c8e0ad23ce6e1a66102b2827faf4bc6.jpg (deflated 7%)\n",
            "  adding: content/ultralytics/runs/detect/predict/images38_jpg.rf.f783b91949c582313741435e2ab20f13.jpg (deflated 9%)\n",
            "  adding: content/ultralytics/runs/detect/predict/rBVaVVzmQsCAQqAaAAFS6j05jmQ952_jpg.rf.74c49cca54180912be65155e3dae3412.jpg (deflated 10%)\n",
            "  adding: content/ultralytics/runs/detect/predict/images-16-_jpg.rf.4e86a2e375ba96c149bf9cd49a13e202.jpg (deflated 6%)\n",
            "  adding: content/ultralytics/runs/detect/predict/images37_jpg.rf.73154a90174ce161c603c23728cc9ad6.jpg (deflated 12%)\n",
            "  adding: content/ultralytics/runs/detect/predict/women-with-glass_72_jpg.rf.e82cfb4c41e1aff43bf96ab5e5140e7e.jpg (deflated 7%)\n",
            "  adding: content/ultralytics/runs/detect/predict/s-l50012_jpg.rf.7be1ea5e553e2bcffd3b4767496ca905.jpg (deflated 7%)\n",
            "  adding: content/ultralytics/runs/detect/predict/rBVaVF3JIOiADOqTAAI333BgS2g291_jpg.rf.e9fd3160037445a60e1d451d17749368.jpg (deflated 5%)\n",
            "  adding: content/ultralytics/runs/detect/predict/glasses175_png_jpg.rf.1571358f632083ddcb03d6c60fc0fe82.jpg (deflated 4%)\n",
            "  adding: content/ultralytics/runs/detect/predict/THE-OBSERVER-II-R-HAG-Z06_front-e1522922035917_jpg.rf.ac8e5cc5e1ec7f21951b2281308b0dd8.jpg (deflated 35%)\n",
            "  adding: content/ultralytics/runs/detect/predict/m_5ee87fd46f6c91fa5cd816f2_jpg.rf.7843000cea2d3245b7e68d2f2732bdf6.jpg (deflated 6%)\n",
            "  adding: content/ultralytics/runs/detect/predict/m_5e48ab6d10f00f81a1b75c72_jpg.rf.1994e755ddfae80191d66597c7f1a896.jpg (deflated 7%)\n",
            "  adding: content/ultralytics/runs/detect/predict/glasses11_png_jpg.rf.47155ad27ccc2e7dde904c4d6f76d400.jpg (deflated 5%)\n",
            "  adding: content/ultralytics/runs/detect/predict/s_600cf80ae13164edf68ac01b_jpg.rf.ff34cf8615b48ecec80a964eab9f6d0a.jpg (deflated 5%)\n",
            "  adding: content/ultralytics/runs/detect/predict/s-l4004_jpg.rf.6842ead9dded20d5d8924227b7f7926a.jpg (deflated 16%)\n",
            "  adding: content/ultralytics/runs/detect/predict/s-l4003_jpg.rf.b6ccfae0d992568a1c6cac4a19b6773b.jpg (deflated 9%)\n",
            "  adding: content/ultralytics/runs/detect/predict/47-banner-11_jpg.rf.7295d72cf62a56354ea738d712d62b6d.jpg (deflated 3%)\n",
            "  adding: content/ultralytics/runs/detect/predict/s_5f6b58399e1559bc10cb9345_jpeg_jpg.rf.fd32f7957396b7eb0f1ea11d86b5dfbd.jpg (deflated 12%)\n",
            "  adding: content/ultralytics/runs/detect/predict/images28_jpg.rf.95d7a3cc525c6acf5ebbd4dc0e232a76.jpg (deflated 8%)\n",
            "  adding: content/ultralytics/runs/detect/predict/s_5f5e47a0bcbb52c07525475b_jpg.rf.8c2c0c90d7b46189c3e6b8d6613a56bb.jpg (deflated 5%)\n",
            "  adding: content/ultralytics/runs/detect/predict/sunwear-germany-craft-sunglas-the-dawn-sunglasses_jpg.rf.2f88aa2ce39c7640b2e99a3c81d3d265.jpg (deflated 9%)\n",
            "  adding: content/ultralytics/runs/detect/predict/images79_jpg.rf.1e38fb888248d3cea1c0a883f64ec6e4.jpg (deflated 12%)\n",
            "  adding: content/ultralytics/runs/detect/predict/s-l400_jpg.rf.7ced7bd58c2d2e480b7179c87c49ab93.jpg (deflated 6%)\n",
            "  adding: content/ultralytics/runs/detect/predict/glasses74_png_jpg.rf.d710440e483a2b63fffc3a7707ec293f.jpg (deflated 4%)\n",
            "  adding: content/ultralytics/runs/detect/predict/s-l4008_jpg.rf.71fdda3c9187a6e801e05a80adad61c3.jpg (deflated 5%)\n",
            "  adding: content/ultralytics/runs/detect/predict/images11_jpg.rf.6afddb74f27a89d536cdca1e40e83ad9.jpg (deflated 10%)\n",
            "  adding: content/ultralytics/runs/detect/predict/s-l3003_jpg.rf.7ed722deaa2b21872fdf0599b1153bf7.jpg (deflated 13%)\n",
            "  adding: content/ultralytics/runs/detect/predict/s-l40010_jpg.rf.a2763e87e15a0908c2b09983775dd72f.jpg (deflated 7%)\n",
            "  adding: content/ultralytics/runs/detect/predict/s-l16002_jpg.rf.20c0fa273d86efe21969448850d21b1c.jpg (deflated 6%)\n",
            "  adding: content/ultralytics/runs/detect/predict/images_jpg.rf.77323ef62bcea07b43c818e3cd75eb9d.jpg (deflated 6%)\n",
            "  adding: content/ultralytics/runs/detect/predict/s-l30016_jpg.rf.ddf6e9f9221e0d763cab0243075a6b96.jpg (deflated 6%)\n",
            "  adding: content/ultralytics/runs/detect/predict/sun-glasses-beach-near-sea-yellow-sunglasses-background-wave-shore-tropical-island-120120985_jpg.rf.ed1512b0db74296a85719df8314268ac.jpg (deflated 7%)\n",
            "  adding: content/ultralytics/runs/detect/predict/images-18-_jpg.rf.75a6bfa575488ce22e408a46b9b6f933.jpg (deflated 6%)\n",
            "  adding: content/ultralytics/runs/detect/predict/images60_jpg.rf.a7ccfdebb5bba80d4abf35351bdebf19.jpg (deflated 7%)\n",
            "  adding: content/ultralytics/runs/detect/predict/18dc1bf3a0a540fb19b4_jpg.rf.1788db02afd465271feca8c6001c8638.jpg (deflated 9%)\n",
            "  adding: content/ultralytics/runs/detect/predict/m_5cdb5a567f617f5b3ce3cf3d_jpg.rf.f65b6188ec7237ce9aa4dfc94aa7d44c.jpg (deflated 4%)\n",
            "  adding: content/ultralytics/runs/detect/predict/s_5a931f678af1c53c07c3b9a0_jpg.rf.9ea8aac319e69f02560c168c48e04391.jpg (deflated 6%)\n",
            "  adding: content/ultralytics/runs/detect/predict/0fd13c8a87dc67823ecd_jpg.rf.9d9fb31605ead602b14af491767a5234.jpg (deflated 10%)\n",
            "  adding: content/ultralytics/runs/detect/predict/zipangu_citizen_eyewear_1621531026_01e5d892_jpg.rf.1d00981999ea4e81d2644d26eb9d8929.jpg (deflated 7%)\n",
            "  adding: content/ultralytics/runs/detect/predict/images-4-_jpg.rf.689b0b7c3e4308672519724f00472171.jpg (deflated 3%)\n",
            "  adding: content/ultralytics/runs/detect/predict/glasses123_png_jpg.rf.0860f247933fe6dd2f4de9ed79400823.jpg (deflated 4%)\n",
            "  adding: content/ultralytics/runs/detect/predict/images72_jpg.rf.25cd792aabd8c11c5a71d2681f3d0b93.jpg (deflated 12%)\n",
            "  adding: content/ultralytics/runs/detect/predict/images69_jpg.rf.e70bf35b63a11c17cb1e3cd2258eaa54.jpg (deflated 13%)\n",
            "  adding: content/ultralytics/runs/detect/predict/glasses32_png_jpg.rf.39d9e4325071c6ca5930ad5e8a0dd324.jpg (deflated 4%)\n",
            "  adding: content/ultralytics/runs/detect/predict/images60_jpg.rf.6cb3f898585d9ef6bf4dc8a89946393a.jpg (deflated 12%)\n",
            "  adding: content/ultralytics/runs/detect/predict/s-l16007_jpg.rf.aea8e64a9a7167037ebc38b34135cd9e.jpg (deflated 7%)\n",
            "  adding: content/ultralytics/runs/detect/predict/images-15-_jpg.rf.d4374789a9ff685d70e94f82007126be.jpg (deflated 3%)\n",
            "  adding: content/ultralytics/runs/detect/predict/women-with-glass_515_jpg.rf.1db60f27038ab1b70d8e48a91afa7922.jpg (deflated 6%)\n",
            "  adding: content/ultralytics/runs/detect/predict/images34_jpg.rf.ca4992cfd4f5a22cdfb0baa9d4454b38.jpg (deflated 16%)\n",
            "  adding: content/ultralytics/runs/detect/predict/s-l4003_jpg.rf.5a30ade692fa2a35d4e4cc1dc40ac66e.jpg (deflated 5%)\n",
            "  adding: content/ultralytics/runs/detect/predict/s-l5006_jpg.rf.f0063b4c868bb5e9e5fcab4c106b929d.jpg (deflated 10%)\n",
            "  adding: content/ultralytics/runs/detect/predict/s_5bdc5ee55c4452f015642c13_jpg.rf.d1ce21fad8d1b615b0341fc722300ba9.jpg (deflated 5%)\n",
            "  adding: content/ultralytics/runs/detect/predict/1-istock-617894388-man-glasses_jpg.rf.ce392f5baf45d191edaf32672c5936ca.jpg (deflated 7%)\n",
            "  adding: content/ultralytics/runs/detect/predict/images-5-_jpg.rf.ec8580b5ffb3a494045dff83260a7dd9.jpg (deflated 3%)\n",
            "  adding: content/ultralytics/runs/detect/predict/s-l3004_jpg.rf.d6fef6a50334487aeaea366c4b315acc.jpg (deflated 6%)\n",
            "  adding: content/ultralytics/runs/detect/predict/s-l3004_jpg.rf.cb4514a67d65f0507055002ba7e627a1.jpg (deflated 25%)\n",
            "  adding: content/ultralytics/runs/detect/predict/image2_jpeg_jpg.rf.7da270db5acbd90d12fca468c5ee2969.jpg (deflated 32%)\n",
            "  adding: content/ultralytics/runs/detect/predict/women-with-glass_57_jpg.rf.2ab203b16a8f47da71292e8c749fc998.jpg (deflated 4%)\n",
            "  adding: content/ultralytics/runs/detect/predict/women-with-glass_56_jpg.rf.e9a6e357337da33015df70c6499e40f2.jpg (deflated 8%)\n",
            "  adding: content/ultralytics/runs/detect/predict/images68_jpg.rf.4547d23ee472442b5e6e172ea3cefb5b.jpg (deflated 4%)\n",
            "  adding: content/ultralytics/runs/detect/predict/image5_jpeg_jpg.rf.e35058b661dbe52911f92ae3379c22b6.jpg (deflated 35%)\n",
            "  adding: content/ultralytics/runs/detect/predict/images77_jpg.rf.f7618caf217c3d12a0f1cb02a91b8f71.jpg (deflated 7%)\n",
            "  adding: content/ultralytics/runs/detect/predict/glasses178_png_jpg.rf.cb5e01355395ec1736333cd2b4fe6cc5.jpg (deflated 4%)\n",
            "  adding: content/ultralytics/runs/detect/predict/s_5fd52def633cfc9271f31f25_jpg.rf.7130a4364e9f80c554aea78fd0e6be7c.jpg (deflated 8%)\n",
            "  adding: content/ultralytics/runs/detect/predict/Maybach-Eyewear-THE-OBSERVER-II-CHG-WI-Z57_jpg.rf.f563ebde0e685f358fc28e902e8d9c3a.jpg (deflated 36%)\n",
            "  adding: content/ultralytics/runs/detect/predict/s-l4009_jpg.rf.6fb26f8bcc744bd107186a7dd1c33094.jpg (deflated 6%)\n",
            "  adding: content/ultralytics/runs/detect/predict/image11_jpeg_jpg.rf.2c2143bced15d8cbc63b6876e33471eb.jpg (deflated 6%)\n",
            "  adding: content/ultralytics/runs/detect/predict/a-pair-of-bifocal-glasses-on-top-of-an-nhs-optical-prescription-form-KC96K0_jpg.rf.cea678bb40d1bc3ef584f5a392d25c9c.jpg (deflated 9%)\n",
            "  adding: content/ultralytics/runs/detect/predict/s-l3005_jpg.rf.5d3612411fabd5acc7059477b1b859d2.jpg (deflated 8%)\n",
            "  adding: content/ultralytics/runs/detect/predict/manish_arora_eyeglasses_with_blue_filter_lenses_no_grade_1559307375_2d19a9b9_progressive_jpg.rf.719d6195b4f3349a289e9e34d048b37a.jpg (deflated 12%)\n",
            "  adding: content/ultralytics/runs/detect/predict/s_630f91a97dfcc20848bcedaa_jpg.rf.d394d58eea3f12c164197d8e2b80f2bd.jpg (deflated 5%)\n",
            "  adding: content/ultralytics/runs/detect/predict/glasses92_png_jpg.rf.8ff02c8f52888abb697f2d6dd56a9a6e.jpg (deflated 4%)\n",
            "  adding: content/ultralytics/runs/detect/predict/s-l5002_jpg.rf.096afea2f43755e67ad823e7d9af2c18.jpg (deflated 13%)\n",
            "  adding: content/ultralytics/runs/detect/predict/14-828761-payne-glasses-review-1296x728-header-cedd88-1024x574_jpg.rf.e83ee648d88dce0fa46e7df3e9a8851f.jpg (deflated 5%)\n",
            "  adding: content/ultralytics/runs/detect/predict/-Anti-Blue-Light-Computer-Glasses-Support-Prescription-Clear-Lens-Eyeglasses_jpg.rf.b936f6f8cecd40689be2901626608bfe.jpg (deflated 11%)\n",
            "  adding: content/ultralytics/runs/detect/predict/s-l4002_jpg.rf.e6310115cdac1afba29ae675bd3c46cd.jpg (deflated 5%)\n",
            "  adding: content/ultralytics/runs/detect/predict/images-10-_jpg.rf.ccb807587202dea2461f48ca175b7679.jpg (deflated 5%)\n",
            "  adding: content/ultralytics/runs/detect/predict/images2_jpg.rf.141a11b4cbb31b768e12b9a1e0292498.jpg (deflated 14%)\n",
            "  adding: content/ultralytics/runs/detect/predict/images68_jpg.rf.78b0f876181ec76fe9d5fa25b37e3e2c.jpg (deflated 9%)\n",
            "  adding: content/ultralytics/runs/detect/predict/top-luxury-k-gold-men-eyewear-car-brand-maybach_jpg.rf.5eb2c15d49abac7bece50c11efa14d43.jpg (deflated 9%)\n",
            "  adding: content/ultralytics/runs/detect/predict/images39_jpg.rf.376c4f236bd8bb7360dcb30ea4b5d865.jpg (deflated 19%)\n",
            "  adding: content/ultralytics/runs/detect/predict/s-l30012_jpg.rf.4ed201ff75a8cc507869e93ad08879dd.jpg (deflated 6%)\n",
            "  adding: content/ultralytics/runs/detect/predict/T492_jpg.rf.2345e445a88b937c72e0d935fc2dc7cf.jpg (deflated 9%)\n",
            "  adding: content/ultralytics/runs/detect/predict/s_5e82241eb3e917b3b62a979d_jpg.rf.3e72fd11f70a81876bd84af0d460516f.jpg (deflated 4%)\n",
            "  adding: content/ultralytics/runs/detect/predict/s-l4006_jpg.rf.86a5d437105694b4e9ad390d354bb401.jpg (deflated 6%)\n",
            "  adding: content/ultralytics/runs/detect/predict/s_6186ee4b3cda884999409391_jpg.rf.60fd6fa746e6447060ee8e0a3620dba6.jpg (deflated 4%)\n",
            "  adding: content/ultralytics/runs/detect/predict/images15_jpg.rf.6fe41c983504f095ba3e75ed20cafa33.jpg (deflated 10%)\n",
            "  adding: content/ultralytics/runs/detect/predict/images74_jpg.rf.b3c2a89c1fd44769c8686bdfe23e2a29.jpg (deflated 7%)\n",
            "  adding: content/ultralytics/runs/detect/predict/s-l4009_jpg.rf.7a9822850b7966f6ad934ebd3582e03e.jpg (deflated 12%)\n",
            "  adding: content/ultralytics/runs/detect/predict/s-l16008_jpg.rf.1f02b0f8cd92a88cec23f7fbdc607313.jpg (deflated 11%)\n",
            "  adding: content/ultralytics/runs/detect/predict/s-l500_jpg.rf.49b9e23c620e79cc98fd0751588f2552.jpg (deflated 11%)\n",
            "  adding: content/ultralytics/runs/detect/predict/s-l3002_jpg.rf.32cb4ff4f18627dfc96b5a6c6e115767.jpg (deflated 6%)\n",
            "  adding: content/ultralytics/runs/detect/predict/rubber-reading-eye-glasses-frame-250x250_jpg.rf.58ea5bbca44032eeb04e8013930a33d5.jpg (deflated 20%)\n",
            "  adding: content/ultralytics/runs/detect/predict/_1-JPG_jpg.rf.a09a534de6f1efc189eb4c4b34a7bcc5.jpg (deflated 15%)\n",
            "  adding: content/ultralytics/runs/detect/predict/images27_jpg.rf.d7e5cd2262b175dd2984e6a816a7a906.jpg (deflated 11%)\n",
            "  adding: content/ultralytics/runs/detect/predict/s-l1600_jpg.rf.f1e5b05773380088e2bba80834cea818.jpg (deflated 11%)\n",
            "  adding: content/ultralytics/runs/detect/predict/m_5bafdf3d03087c68dd2297c5_jpg.rf.e372b7acc0d1f2cf2fabfa2ae46d4f19.jpg (deflated 5%)\n",
            "  adding: content/ultralytics/runs/detect/predict/glasses132_png_jpg.rf.6435efa5ea56ced73a0194db0355b7c1.jpg (deflated 4%)\n",
            "  adding: content/ultralytics/runs/detect/predict/s-l4004_jpg.rf.9d41ccec8a9389317668f9dad18e98e3.jpg (deflated 14%)\n",
            "  adding: content/ultralytics/runs/detect/predict/Progressive-Lenses_jpg.rf.0c50b2b5af441dd62a47977ae14337dd.jpg (deflated 9%)\n",
            "  adding: content/ultralytics/runs/detect/predict/reflection-of-building-on-sunglasses-FETGFN_jpg.rf.e164cef38f387e2944c708ad2606f837.jpg (deflated 7%)\n",
            "  adding: content/ultralytics/runs/detect/predict/s-l4005_jpg.rf.6372cf58d943ad287fa25d7e86bb6006.jpg (deflated 14%)\n",
            "  adding: content/ultralytics/runs/detect/predict/glasses187_png_jpg.rf.4f6deddaac6de2b2672fc0df384ceaef.jpg (deflated 4%)\n",
            "  adding: content/ultralytics/runs/detect/predict/m_5aa98cf8077b97674aa6b5bf_jpg.rf.4f6d17cbff734cd30dc4bd7fe47a6caa.jpg (deflated 7%)\n",
            "  adding: content/ultralytics/runs/detect/predict/s-l50013_jpg.rf.902618eb524689378abf5dfc4ff65349.jpg (deflated 10%)\n",
            "  adding: content/ultralytics/runs/detect/predict/s-l30020_jpg.rf.2999f24fb155f20a949399bc3903f252.jpg (deflated 7%)\n",
            "  adding: content/ultralytics/runs/detect/predict/Spectacles-Repaint-Before-After-03-2970x1100_jpg.rf.c1e4d5793919f176806c57320deb540b.jpg (deflated 20%)\n",
            "  adding: content/ultralytics/runs/detect/predict/maxresdefault_jpg.rf.349cf221ac3d81e0c633bf142e1398ac.jpg (deflated 13%)\n",
            "  adding: content/ultralytics/runs/detect/predict/m_5f3403f1074d2413dde55b04_jpg.rf.61d1ab9c6ffd95824b17ed38426c0846.jpg (deflated 5%)\n",
            "  adding: content/ultralytics/runs/detect/predict/s-l3002_jpg.rf.0976c1e0510fca670dab30774618aba3.jpg (deflated 6%)\n",
            "  adding: content/ultralytics/runs/detect/predict/s-l4005_jpg.rf.3e4d7a00401b2015018f8d860f18f510.jpg (deflated 6%)\n",
            "  adding: content/ultralytics/runs/detect/predict/top-luxury-k-gold-men-eyewear-car-brand-maybach2_jpg.rf.bb5829d9ea55766327af7a8588d7bb0b.jpg (deflated 9%)\n",
            "  adding: content/ultralytics/runs/detect/predict/images42_jpg.rf.3e5506a5dfaad3353ddc853a8b29cb55.jpg (deflated 16%)\n",
            "  adding: content/ultralytics/runs/detect/predict/m_5cfaa3aaabe1ce90b73a030e_jpg.rf.e29a575fb8c075c35f625225dbab911c.jpg (deflated 5%)\n",
            "  adding: content/ultralytics/runs/detect/predict/s-l4005_jpg.rf.55622cc93ce2f3e1782c31bd5e553782.jpg (deflated 29%)\n",
            "  adding: content/ultralytics/runs/detect/predict/32_jpg.rf.c3072e0b990782df4045272049a27956.jpg (deflated 8%)\n",
            "  adding: content/ultralytics/runs/detect/predict/s-l6402_jpg.rf.0f2662331f42e2248164cfa77ccd8e94.jpg (deflated 5%)\n",
            "  adding: content/ultralytics/runs/detect/predict/28f3d11c3465ce2e74d8a4d65861de51_jpg.rf.350f0406be66476a1b956ee1d234a58d.jpg (deflated 7%)\n",
            "  adding: content/ultralytics/runs/detect/predict/images3_jpg.rf.a42367e77ee8faf59007326a97d0c9e8.jpg (deflated 14%)\n",
            "  adding: content/ultralytics/runs/detect/predict/glasses37_png_jpg.rf.7013b2eb166b5b86aacad6d27dcef25a.jpg (deflated 3%)\n",
            "  adding: content/ultralytics/runs/detect/predict/images-8-_jpg.rf.fcd17b8d9a0ef5bb443569ceef8c4fc5.jpg (deflated 5%)\n",
            "  adding: content/ultralytics/runs/detect/predict/s-l5003_jpg.rf.ee8186b989667e36b7e489f9a809078b.jpg (deflated 5%)\n",
            "  adding: content/ultralytics/runs/detect/predict/s-l16009_jpg.rf.507b3e4c8bde8d9dba8069db9b522f83.jpg (deflated 6%)\n",
            "  adding: content/ultralytics/runs/detect/predict/glasses80_png_jpg.rf.1e15cf37ac320f5e217a28f823dfe665.jpg (deflated 6%)\n",
            "  adding: content/ultralytics/runs/detect/predict/146_jpg.rf.26ef2b23f23be806f95ea91505d1a567.jpg (deflated 4%)\n",
            "  adding: content/ultralytics/runs/detect/predict/418ngUXoywL-_AC_SX466__jpg.rf.1e02cdcf089a37d9629cc58ca5cf277e.jpg (deflated 23%)\n",
            "  adding: content/ultralytics/runs/detect/predict/TheObserverIR-HAS-Z29GenfAutoShow_jpg.rf.deb77b7c1dfcfe8123742e4663c7da0f.jpg (deflated 6%)\n",
            "  adding: content/ultralytics/runs/detect/predict/m_5f3403f267bd919ade027360_jpg.rf.5e71b4e1b7232687391a0cd81d962fef.jpg (deflated 5%)\n",
            "  adding: content/ultralytics/runs/detect/predict/women-with-glass_81_jpg.rf.16e2b4e86b957ba00fad5818c0804579.jpg (deflated 4%)\n",
            "  adding: content/ultralytics/runs/detect/predict/THE-OBSERVER-II-CHG-WI-Z57_front-scaled-e1589880174729-731x404_jpg.rf.aca3cd87e82a87ccd39a9534a98d3248.jpg (deflated 32%)\n",
            "  adding: content/ultralytics/runs/detect/predict/images18_jpg.rf.c8ba1169fd1272c77247c91ce8a0d8db.jpg (deflated 39%)\n",
            "  adding: content/ultralytics/runs/detect/predict/sunglasses-summer-fashion-accessories-objects-bedroom-royalty-free-thumbnail_jpg.rf.58853bfb0334df3099f8435e793c86bc.jpg (deflated 14%)\n",
            "  adding: content/ultralytics/runs/detect/predict/images-4-_jpg.rf.3bd91fc5c3e9ccddf80ff3abb487c07d.jpg (deflated 4%)\n",
            "  adding: content/ultralytics/runs/detect/predict/images43_jpg.rf.81712d0bc704a7233065b277ba129974.jpg (deflated 6%)\n",
            "  adding: content/ultralytics/runs/detect/predict/MAYBACH-6-731x411_jpg.rf.a9bdd7e68018981825142b6e7c4553ee.jpg (deflated 21%)\n",
            "  adding: content/ultralytics/runs/detect/predict/5646613689-500x500_jpeg_jpg.rf.2293a6edeb05fecccb4c7a6b25ed3aa7.jpg (deflated 8%)\n",
            "  adding: content/ultralytics/runs/detect/predict/glasses72_png_jpg.rf.1dbfa526be5ba92142f08cbf5e7c9274.jpg (deflated 14%)\n",
            "  adding: content/ultralytics/runs/detect/predict/images7_jpg.rf.dede282ae3b17a631c4d218dda7d1571.jpg (deflated 14%)\n",
            "  adding: content/ultralytics/runs/detect/predict/vision-therapy-supporting-image-sunglasses_jpg.rf.f37940f54b1edd739ef5df803d6151fb.jpg (deflated 11%)\n",
            "  adding: content/ultralytics/runs/detect/predict/16_jpg.rf.a29cc28284b97f4b6e9296d401693d70.jpg (deflated 5%)\n",
            "  adding: content/ultralytics/runs/detect/predict/glasses73_png_jpg.rf.c16ac9270c6e2e0284af6963604c88c6.jpg (deflated 4%)\n",
            "  adding: content/ultralytics/runs/detect/predict/images38_jpg.rf.8a7b38aa626b4dd6404ee735676f5093.jpg (deflated 7%)\n",
            "  adding: content/ultralytics/runs/detect/predict/s-l5008_jpg.rf.6005b0de36d6f33559e91bed75902627.jpg (deflated 5%)\n",
            "  adding: content/ultralytics/runs/detect/predict/s-l5005_jpg.rf.971eadd6a78d9503a577a447fbff3413.jpg (deflated 11%)\n",
            "  adding: content/ultralytics/runs/detect/predict/s-l16003_jpg.rf.37e468cf0ec9e8c1d752c97664295f10.jpg (deflated 7%)\n",
            "  adding: content/ultralytics/runs/detect/predict/s-l50010_jpg.rf.19cc5f02dad60aea3cebad76ee65df04.jpg (deflated 12%)\n",
            "  adding: content/ultralytics/runs/detect/predict/images-14-_jpg.rf.08ad917a68f87716fefe2496afaed850.jpg (deflated 5%)\n",
            "  adding: content/ultralytics/runs/detect/predict/images62_jpg.rf.28d4553c770a434db79d2cff7d9e5253.jpg (deflated 8%)\n",
            "  adding: content/ultralytics/runs/detect/predict/glasses100_png_jpg.rf.20d715b5a6af3aab8ec93daf6cd9db04.jpg (deflated 4%)\n",
            "  adding: content/ultralytics/runs/detect/predict/28-5cd4f5b6200000320096481b_jpeg_jpg.rf.ed09e09595b74d90bc9d3ea9001007e4.jpg (deflated 5%)\n",
            "  adding: content/ultralytics/runs/detect/predict/s-l16004_jpg.rf.c7325f25c4f06ba346bc1f65c5740d0e.jpg (deflated 6%)\n",
            "  adding: content/ultralytics/runs/detect/predict/images-15-_jpg.rf.64fc027c60370b751956c8b991a5338e.jpg (deflated 4%)\n",
            "  adding: content/ultralytics/runs/detect/predict/swatch_spectacles_frame_1478357369_3927b900_jpg.rf.60164521f0b92b919fc9cc264e06b8d3.jpg (deflated 10%)\n",
            "  adding: content/ultralytics/runs/detect/predict/s-l40011_jpg.rf.4e8d625fff91e9d1473d465a2cddc64a.jpg (deflated 7%)\n",
            "  adding: content/ultralytics/runs/detect/predict/maybach-the-premier-i-1_min_jpg.rf.6271c2815e006e7c8ea3c3277d4d59e1.jpg (deflated 29%)\n",
            "  adding: content/ultralytics/runs/detect/predict/33_jpg.rf.e418f1b892ba45669d1af3114e174327.jpg (deflated 4%)\n",
            "  adding: content/ultralytics/runs/detect/predict/s-l5002_jpg.rf.322cc4d379e6a2af9447c53fc77724c2.jpg (deflated 5%)\n",
            "  adding: content/ultralytics/runs/detect/predict/m_5f3407c412d880bb0ba9e0cc_jpg.rf.b9ce601a997bb9641620ecd6c9e0d84c.jpg (deflated 7%)\n",
            "  adding: content/ultralytics/runs/detect/predict/27_jpg.rf.61209aa5ed1ee36cb03bff5e49462f68.jpg (deflated 4%)\n",
            "  adding: content/ultralytics/runs/detect/predict/KateSpade-Eye-Jayla-0003_jpg.rf.157d3207ab1b0c961796ceb19286c425.jpg (deflated 36%)\n",
            "  adding: content/ultralytics/runs/detect/predict/black-sun-glasses-on-a-sandy-beach-with-a-sea-background-F04E0Y_jpg.rf.b598c77b9c2eedb81727bff3debfce41.jpg (deflated 12%)\n",
            "  adding: content/ultralytics/runs/detect/predict/images34_jpg.rf.b66ebaf19fe381db67f6bf99f4a3a415.jpg (deflated 10%)\n",
            "  adding: content/ultralytics/runs/detect/predict/glasses9_png_jpg.rf.017663dbefbeb116088aae343404330d.jpg (deflated 5%)\n",
            "  adding: content/ultralytics/runs/detect/predict/s_5e48ab6d10f00f81a1b75c72_jpg.rf.e8c3019ab5b943be0082064bce395624.jpg (deflated 6%)\n",
            "  adding: content/ultralytics/runs/detect/predict/s-l5005_jpg.rf.fba0b536c465de98968304300056715b.jpg (deflated 11%)\n",
            "  adding: content/ultralytics/runs/detect/predict/s-l3009_jpg.rf.da678618d039a882fcb6ae0928f63145.jpg (deflated 6%)\n",
            "  adding: content/ultralytics/runs/detect/predict/s-l500_jpg.rf.65892d6864af36a37950aef42bd2195b.jpg (deflated 12%)\n",
            "  adding: content/ultralytics/runs/detect/predict/images57_jpg.rf.e8fd0847429df2fa69434a4609e684da.jpg (deflated 9%)\n",
            "  adding: content/ultralytics/runs/detect/predict/147_jpg.rf.408e26e72333c1f77c02f9e27637e519.jpg (deflated 6%)\n",
            "  adding: content/ultralytics/runs/detect/predict/glasses184_png_jpg.rf.659bcd4a1db6c2480dee71e90e8c7dff.jpg (deflated 7%)\n",
            "  adding: content/ultralytics/runs/detect/predict/glasses191_png_jpg.rf.a617685322d20af0435d1e4bf4c8d7c8.jpg (deflated 4%)\n",
            "  adding: content/ultralytics/runs/detect/predict/images75_jpg.rf.3671739225e49021b6a2d5198fc87d8b.jpg (deflated 10%)\n",
            "  adding: content/ultralytics/runs/detect/predict/women-with-glass_62_jpg.rf.071acfa7531680d63a14c34a2675e4fc.jpg (deflated 5%)\n",
            "  adding: content/ultralytics/runs/detect/predict/s-l5006_jpg.rf.8ed834cffe0d9b0f08eabf3393eb57b3.jpg (deflated 5%)\n",
            "  adding: content/ultralytics/runs/detect/predict/images-3-_jpg.rf.6bb28c586a340da0cdad9738fb73a7b2.jpg (deflated 4%)\n",
            "  adding: content/ultralytics/runs/detect/predict/images7_jpg.rf.aae94705f42883a7cf626cb0209a2e40.jpg (deflated 14%)\n",
            "  adding: content/ultralytics/runs/detect/predict/image_jpeg_jpg.rf.5cf64015c6caba01e7e20f08cf98b2e3.jpg (deflated 30%)\n",
            "  adding: content/ultralytics/runs/detect/predict/s-l3007_jpg.rf.64e1c19f66cb782820357f06813b7133.jpg (deflated 5%)\n",
            "  adding: content/ultralytics/runs/detect/predict/s-l5004_jpg.rf.65959c9c37a94199725d32eedf8776ab.jpg (deflated 17%)\n",
            "  adding: content/ultralytics/runs/detect/predict/s-l4006_jpg.rf.94e89fde711538774e547d58106c0aa1.jpg (deflated 14%)\n",
            "  adding: content/ultralytics/runs/detect/predict/images_jpg.rf.a74ab95e0132aef302e21581baf5a7d4.jpg (deflated 6%)\n",
            "  adding: content/ultralytics/runs/detect/predict/k-uv400-11_jpg.rf.ce114e97344048f434df9ce3787c2c5b.jpg (deflated 9%)\n",
            "  adding: content/ultralytics/runs/detect/predict/images26_jpg.rf.f708fc72b36a22f32cf106052f2eb9b7.jpg (deflated 16%)\n",
            "  adding: content/ultralytics/runs/detect/predict/-8-_jpg.rf.da1adf785dfc57cf9b1911f7257e7c6a.jpg (deflated 3%)\n",
            "  adding: content/ultralytics/runs/detect/predict/glasses149_png_jpg.rf.e503c46cfa0e965debb56d8e88d77c30.jpg (deflated 3%)\n",
            "  adding: content/ultralytics/runs/detect/predict/s-l1600_jpg.rf.56a60994f1935a2f3a6e34f813a70e75.jpg (deflated 7%)\n",
            "  adding: content/ultralytics/runs/detect/predict/women-with-glass_95_jpg.rf.15679a3e96394d5433dbb7f572048acc.jpg (deflated 5%)\n",
            "  adding: content/ultralytics/runs/detect/predict/_1-JPG_jpg.rf.da09f3111bd82d93d12f177356dee682.jpg (deflated 11%)\n",
            "  adding: content/ultralytics/runs/detect/predict/glasses88_png_jpg.rf.74e209f486acb0d5752193646d983aed.jpg (deflated 17%)\n",
            "  adding: content/ultralytics/runs/detect/predict/s-l5003_jpg.rf.c681e0b6aca0588d7ef1f045c91eeeff.jpg (deflated 13%)\n",
            "  adding: content/ultralytics/runs/detect/predict/s-l5009_jpg.rf.b746e833478c6aa3876b3193c7ff8713.jpg (deflated 5%)\n",
            "  adding: content/ultralytics/runs/detect/predict/s-l300_jpg.rf.7a9387665ae05aadd3b7e5bc6aa7a1bd.jpg (deflated 6%)\n",
            "  adding: content/ultralytics/runs/detect/predict/images66_jpg.rf.3234d7cf626026b75699f79493d8c7c2.jpg (deflated 6%)\n",
            "  adding: content/ultralytics/runs/detect/predict/glasses128_png_jpg.rf.c4f74a6b09ae4b3a8c284ad1a04a071b.jpg (deflated 4%)\n",
            "  adding: content/ultralytics/runs/detect/predict/images79_jpg.rf.5f3591b7c570f33062e451d2e03f473c.jpg (deflated 6%)\n",
            "  adding: content/ultralytics/runs/detect/predict/s-l225_jpg.rf.b6da42459a429b80c1ae718724f75154.jpg (deflated 9%)\n",
            "  adding: content/ultralytics/runs/detect/predict/women-with-glass_55_jpg.rf.3962bd4c0744c02512d26e62337ce364.jpg (deflated 5%)\n",
            "  adding: content/ultralytics/runs/detect/predict/s-l5007_jpg.rf.bafde2de5cf0287a06e861cdcaaca2e9.jpg (deflated 6%)\n",
            "  adding: content/ultralytics/runs/detect/predict/s-l4007_jpg.rf.35954a6350962e7b0b3c32bf8e9b8c85.jpg (deflated 12%)\n",
            "  adding: content/ultralytics/runs/detect/predict/-4-_jpg.rf.5546ac78dd02e781078bed933ff8371f.jpg (deflated 3%)\n",
            "  adding: content/ultralytics/runs/detect/predict/s-l300_jpg.rf.02f71fb0c1cf03693d174717c050bc1c.jpg (deflated 5%)\n",
            "  adding: content/ultralytics/runs/detect/predict/glasses120_png_jpg.rf.3511f5a630bf5b7eae1ca0945e89afe7.jpg (deflated 3%)\n",
            "  adding: content/ultralytics/runs/detect/predict/s-l300_jpg.rf.3ef1f36f4ccea7ea8df5d7b0c653223a.jpg (deflated 7%)\n",
            "  adding: content/ultralytics/runs/detect/predict/images76_jpg.rf.f90b14d2d02b3026de689ee59fba7646.jpg (deflated 5%)\n",
            "  adding: content/ultralytics/runs/detect/predict/s-l5008_jpg.rf.760053d8c6569bc2cb2077f6ffc28ad4.jpg (deflated 6%)\n",
            "  adding: content/ultralytics/runs/detect/predict/images70_jpg.rf.88bc793164894583dafa209f6e54b008.jpg (deflated 22%)\n",
            "  adding: content/ultralytics/runs/detect/predict/sunglasses-on-a-table-2HAJF28_jpg.rf.77127fc756c0f9cbdb5f4063365d363b.jpg (deflated 7%)\n",
            "  adding: content/ultralytics/runs/detect/predict/images-1-_jpg.rf.25b3e693edf4d136dded13050cd7ab94.jpg (deflated 4%)\n",
            "  adding: content/ultralytics/runs/detect/predict/images71_jpg.rf.95ed0f324244096edf0fbb5a3a95293e.jpg (deflated 7%)\n",
            "  adding: content/ultralytics/runs/detect/predict/women-with-glass_79_jpg.rf.8754aaf2c001ac872c8430c23ffc342e.jpg (deflated 4%)\n",
            "  adding: content/ultralytics/runs/detect/predict/glasses8_png_jpg.rf.e9c5d2744ba31c8dcc82bafbf3497a9d.jpg (deflated 4%)\n",
            "  adding: content/ultralytics/runs/detect/predict/s-l3003_jpg.rf.b7e54e6e25ef944a6e0e2c4fd548728b.jpg (deflated 11%)\n",
            "  adding: content/ultralytics/runs/detect/predict/zoo_york_eyeglasses_frame_1518333833_4f7ba12f_jpg.rf.e20afc399c73064a87b72e465ea787fc.jpg (deflated 7%)\n",
            "  adding: content/ultralytics/runs/detect/predict/Progressive-Lenses-1024x576_jpg.rf.559e0d3e30e289ebb6bb01d981c90205.jpg (deflated 9%)\n",
            "  adding: content/ultralytics/runs/detect/predict/rBVaWFzmRnSAIrS4AAGDJ4PW8FM806_jpg.rf.9e4b6b05128337e397801f81934e74cc.jpg (deflated 9%)\n",
            "  adding: content/ultralytics/runs/detect/predict/s-l3002_jpg.rf.85a44797a9a9e10d82d8437b1d4fdff3.jpg (deflated 16%)\n",
            "  adding: content/ultralytics/runs/detect/predict/glasses82_png_jpg.rf.10cacde85122f99c35415203fb10a93c.jpg (deflated 5%)\n",
            "  adding: content/ultralytics/runs/detect/predict/THE-OBSERVER-II-CHG-WI-Z57_front-e1522922536334_jpg.rf.a701d5ea2152986ceb0b61943a0194be.jpg (deflated 31%)\n",
            "  adding: content/ultralytics/runs/detect/predict/1c9b3c74d601121921c6c99321f79ec9-coaches_jpg.rf.854c03a1196fc0b2d27c9a8bc9be3c55.jpg (deflated 7%)\n",
            "  adding: content/ultralytics/runs/detect/predict/s-l30022_jpg.rf.de7a253f5a541a89c78c9a879ae1f5b1.jpg (deflated 8%)\n",
            "  adding: content/ultralytics/runs/detect/predict/s-l160010_jpg.rf.ef5af061070240fd35310182f583fa99.jpg (deflated 7%)\n",
            "  adding: content/ultralytics/runs/detect/predict/images58_jpg.rf.56041cbee33a0e72a97952d550300975.jpg (deflated 7%)\n",
            "  adding: content/ultralytics/runs/detect/predict/women-with-glass_525_jpg.rf.7e6d9036c6e7fe7e1c5a552a8984de25.jpg (deflated 4%)\n",
            "  adding: content/ultralytics/runs/detect/predict/il_fullxfull-3060037234_7w3w_jpg.rf.8e357c3b939ef45c61249b6bfa30b0d1.jpg (deflated 9%)\n",
            "  adding: content/ultralytics/runs/detect/predict/s-l5004_jpg.rf.47b694321a3f4d2a2139958223a44c31.jpg (deflated 34%)\n",
            "  adding: content/ultralytics/runs/detect/predict/P8_jpg.rf.480e9a405306aa92a78c6aa4971f4cc1.jpg (deflated 8%)\n",
            "  adding: content/ultralytics/runs/detect/predict/glasses26_png_jpg.rf.7575d44d3fa0f513b6abafaa21afbc5d.jpg (deflated 4%)\n",
            "  adding: content/ultralytics/runs/detect/predict/s-l3005_jpg.rf.e36ae68164584282c8f6f681e05618b6.jpg (deflated 5%)\n",
            "  adding: content/ultralytics/runs/detect/predict/images48_jpg.rf.9b55ce51637b7ac385517903af9a2214.jpg (deflated 35%)\n"
          ]
        }
      ]
    },
    {
      "cell_type": "code",
      "source": [
        "from glob import glob\n",
        "\n",
        "annots = glob(\"/content/ultralytics/glasses-detection-4/train/labels/*.txt\")"
      ],
      "metadata": {
        "id": "zHH_1dKKxl19"
      },
      "execution_count": 17,
      "outputs": []
    },
    {
      "cell_type": "code",
      "execution_count": 18,
      "metadata": {
        "id": "Zw5iEQGexwT8"
      },
      "outputs": [],
      "source": [
        "glasses = 0\n",
        "sunglasses = 0\n",
        "\n",
        "for i in annots:\n",
        "    with open(i,\"r\") as fs:\n",
        "      for line in fs.readlines():\n",
        "        if line[0]==\"0\":\n",
        "          glasses+=1\n",
        "        if line[0]==\"1\":\n",
        "          sunglasses+=1"
      ]
    },
    {
      "cell_type": "code",
      "source": [
        "glasses"
      ],
      "metadata": {
        "colab": {
          "base_uri": "https://localhost:8080/"
        },
        "id": "KO1X19psycJq",
        "outputId": "4e59b381-6c76-4982-f5a9-68969a24c5c9"
      },
      "execution_count": 19,
      "outputs": [
        {
          "output_type": "execute_result",
          "data": {
            "text/plain": [
              "1157"
            ]
          },
          "metadata": {},
          "execution_count": 19
        }
      ]
    },
    {
      "cell_type": "code",
      "source": [
        "sunglasses"
      ],
      "metadata": {
        "colab": {
          "base_uri": "https://localhost:8080/"
        },
        "id": "TDVipj_jyd3-",
        "outputId": "ff35f23c-b7b3-450b-ee49-2cf98a69dae4"
      },
      "execution_count": 20,
      "outputs": [
        {
          "output_type": "execute_result",
          "data": {
            "text/plain": [
              "308"
            ]
          },
          "metadata": {},
          "execution_count": 20
        }
      ]
    },
    {
      "cell_type": "code",
      "execution_count": 21,
      "metadata": {
        "colab": {
          "base_uri": "https://localhost:8080/"
        },
        "id": "f-idqw0LyJzm",
        "outputId": "1dba8186-b9db-4636-b885-f6bebfc444fe"
      },
      "outputs": [
        {
          "output_type": "execute_result",
          "data": {
            "text/plain": [
              "857"
            ]
          },
          "metadata": {},
          "execution_count": 21
        }
      ],
      "source": [
        "len(annots)"
      ]
    },
    {
      "cell_type": "markdown",
      "metadata": {
        "id": "0eq1SMWl6Sfn"
      },
      "source": [
        "# 2. Val\n",
        "Validate a model's accuracy on the [COCO](https://cocodataset.org/#home) dataset's `val` or `test` splits. The latest YOLOv8 [models](https://github.com/ultralytics/ultralytics#models) are downloaded automatically the first time they are used. See [YOLOv8 Val Docs](https://docs.ultralytics.com/modes/val/) for more information."
      ]
    },
    {
      "cell_type": "code",
      "execution_count": 24,
      "metadata": {
        "colab": {
          "base_uri": "https://localhost:8080/"
        },
        "id": "gILL_wkMgW0_",
        "outputId": "9e2f1463-6ea6-4d65-d12e-a650e1047782"
      },
      "outputs": [
        {
          "output_type": "stream",
          "name": "stdout",
          "text": [
            "Ultralytics YOLOv8.0.118 🚀 Python-3.10.12 torch-2.0.1+cu118 CUDA:0 (Tesla T4, 15102MiB)\n",
            "Model summary (fused): 168 layers, 3006038 parameters, 0 gradients\n",
            "\u001b[34m\u001b[1mval: \u001b[0mScanning /content/ultralytics/glasses-detection-4/test/labels... 246 images, 0 backgrounds, 0 corrupt: 100% 246/246 [00:00<00:00, 2148.79it/s]\n",
            "\u001b[34m\u001b[1mval: \u001b[0mNew cache created: /content/ultralytics/glasses-detection-4/test/labels.cache\n",
            "                 Class     Images  Instances      Box(P          R      mAP50  mAP50-95): 100% 16/16 [00:05<00:00,  3.06it/s]\n",
            "                   all        246        291      0.895      0.921      0.951      0.728\n",
            "               glasses        246        148      0.894      0.905      0.948      0.712\n",
            "            sunglasses        246        143      0.895      0.937      0.954      0.745\n",
            "Speed: 1.2ms preprocess, 5.2ms inference, 0.0ms loss, 2.6ms postprocess per image\n",
            "Results saved to \u001b[1m/content/ultralytics/runs/detect/val2\u001b[0m\n"
          ]
        }
      ],
      "source": [
        "# Validate YOLOv8n on glasses sunglasses roboflow dataset val\n",
        "!yolo val model=/content/ultralytics/runs/detect/train/weights/best.pt data=/content/ultralytics/glasses-detection-4/data.yaml"
      ]
    },
    {
      "cell_type": "markdown",
      "metadata": {
        "id": "ZY2VXXXu74w5"
      },
      "source": [
        "# 3. Train\n",
        "\n",
        "<p align=\"\"><a href=\"https://bit.ly/ultralytics_hub\"><img width=\"1000\" src=\"https://github.com/ultralytics/assets/raw/main/yolov8/banner-integrations.png\"/></a></p>\n",
        "\n",
        "Train YOLOv8 on [Detect](https://docs.ultralytics.com/tasks/detect/), [Segment](https://docs.ultralytics.com/tasks/segment/), [Classify](https://docs.ultralytics.com/tasks/classify/) and [Pose](https://docs.ultralytics.com/tasks/pose/) datasets. See [YOLOv8 Train Docs](https://docs.ultralytics.com/modes/train/) for more information."
      ]
    },
    {
      "cell_type": "code",
      "execution_count": null,
      "metadata": {
        "colab": {
          "base_uri": "https://localhost:8080/"
        },
        "id": "1NcFxRcFdJ_O",
        "outputId": "b60a1f74-8035-4f9e-b4b0-604f9cf76231"
      },
      "outputs": [
        {
          "name": "stdout",
          "output_type": "stream",
          "text": [
            "Ultralytics YOLOv8.0.71 🚀 Python-3.9.16 torch-2.0.0+cu118 CUDA:0 (Tesla T4, 15102MiB)\n",
            "\u001b[34m\u001b[1myolo/engine/trainer: \u001b[0mtask=detect, mode=train, model=yolov8n.pt, data=coco128.yaml, epochs=3, patience=50, batch=16, imgsz=640, save=True, save_period=-1, cache=False, device=None, workers=8, project=None, name=None, exist_ok=False, pretrained=False, optimizer=SGD, verbose=True, seed=0, deterministic=True, single_cls=False, image_weights=False, rect=False, cos_lr=False, close_mosaic=0, resume=False, amp=True, overlap_mask=True, mask_ratio=4, dropout=0.0, val=True, split=val, save_json=False, save_hybrid=False, conf=None, iou=0.7, max_det=300, half=False, dnn=False, plots=True, source=None, show=False, save_txt=False, save_conf=False, save_crop=False, show_labels=True, show_conf=True, vid_stride=1, line_width=3, visualize=False, augment=False, agnostic_nms=False, classes=None, retina_masks=False, boxes=True, format=torchscript, keras=False, optimize=False, int8=False, dynamic=False, simplify=False, opset=None, workspace=4, nms=False, lr0=0.01, lrf=0.01, momentum=0.937, weight_decay=0.0005, warmup_epochs=3.0, warmup_momentum=0.8, warmup_bias_lr=0.1, box=7.5, cls=0.5, dfl=1.5, pose=12.0, kobj=1.0, label_smoothing=0.0, nbs=64, hsv_h=0.015, hsv_s=0.7, hsv_v=0.4, degrees=0.0, translate=0.1, scale=0.5, shear=0.0, perspective=0.0, flipud=0.0, fliplr=0.5, mosaic=1.0, mixup=0.0, copy_paste=0.0, cfg=None, v5loader=False, tracker=botsort.yaml, save_dir=runs/detect/train\n",
            "\n",
            "                   from  n    params  module                                       arguments                     \n",
            "  0                  -1  1       464  ultralytics.nn.modules.Conv                  [3, 16, 3, 2]                 \n",
            "  1                  -1  1      4672  ultralytics.nn.modules.Conv                  [16, 32, 3, 2]                \n",
            "  2                  -1  1      7360  ultralytics.nn.modules.C2f                   [32, 32, 1, True]             \n",
            "  3                  -1  1     18560  ultralytics.nn.modules.Conv                  [32, 64, 3, 2]                \n",
            "  4                  -1  2     49664  ultralytics.nn.modules.C2f                   [64, 64, 2, True]             \n",
            "  5                  -1  1     73984  ultralytics.nn.modules.Conv                  [64, 128, 3, 2]               \n",
            "  6                  -1  2    197632  ultralytics.nn.modules.C2f                   [128, 128, 2, True]           \n",
            "  7                  -1  1    295424  ultralytics.nn.modules.Conv                  [128, 256, 3, 2]              \n",
            "  8                  -1  1    460288  ultralytics.nn.modules.C2f                   [256, 256, 1, True]           \n",
            "  9                  -1  1    164608  ultralytics.nn.modules.SPPF                  [256, 256, 5]                 \n",
            " 10                  -1  1         0  torch.nn.modules.upsampling.Upsample         [None, 2, 'nearest']          \n",
            " 11             [-1, 6]  1         0  ultralytics.nn.modules.Concat                [1]                           \n",
            " 12                  -1  1    148224  ultralytics.nn.modules.C2f                   [384, 128, 1]                 \n",
            " 13                  -1  1         0  torch.nn.modules.upsampling.Upsample         [None, 2, 'nearest']          \n",
            " 14             [-1, 4]  1         0  ultralytics.nn.modules.Concat                [1]                           \n",
            " 15                  -1  1     37248  ultralytics.nn.modules.C2f                   [192, 64, 1]                  \n",
            " 16                  -1  1     36992  ultralytics.nn.modules.Conv                  [64, 64, 3, 2]                \n",
            " 17            [-1, 12]  1         0  ultralytics.nn.modules.Concat                [1]                           \n",
            " 18                  -1  1    123648  ultralytics.nn.modules.C2f                   [192, 128, 1]                 \n",
            " 19                  -1  1    147712  ultralytics.nn.modules.Conv                  [128, 128, 3, 2]              \n",
            " 20             [-1, 9]  1         0  ultralytics.nn.modules.Concat                [1]                           \n",
            " 21                  -1  1    493056  ultralytics.nn.modules.C2f                   [384, 256, 1]                 \n",
            " 22        [15, 18, 21]  1    897664  ultralytics.nn.modules.Detect                [80, [64, 128, 256]]          \n",
            "Model summary: 225 layers, 3157200 parameters, 3157184 gradients, 8.9 GFLOPs\n",
            "\n",
            "Transferred 355/355 items from pretrained weights\n",
            "\u001b[34m\u001b[1mTensorBoard: \u001b[0mStart with 'tensorboard --logdir runs/detect/train', view at http://localhost:6006/\n",
            "\u001b[34m\u001b[1mAMP: \u001b[0mrunning Automatic Mixed Precision (AMP) checks with YOLOv8n...\n",
            "\u001b[34m\u001b[1mAMP: \u001b[0mchecks passed ✅\n",
            "\u001b[34m\u001b[1moptimizer:\u001b[0m SGD(lr=0.01) with parameter groups 57 weight(decay=0.0), 64 weight(decay=0.0005), 63 bias\n",
            "\u001b[34m\u001b[1mtrain: \u001b[0mScanning /content/datasets/coco128/labels/train2017.cache... 126 images, 2 backgrounds, 80 corrupt: 100% 128/128 [00:00<?, ?it/s]\n",
            "\u001b[34m\u001b[1malbumentations: \u001b[0mBlur(p=0.01, blur_limit=(3, 7)), MedianBlur(p=0.01, blur_limit=(3, 7)), ToGray(p=0.01), CLAHE(p=0.01, clip_limit=(1, 4.0), tile_grid_size=(8, 8))\n",
            "\u001b[34m\u001b[1mval: \u001b[0mScanning /content/datasets/coco128/labels/train2017.cache... 126 images, 2 backgrounds, 80 corrupt: 100% 128/128 [00:00<?, ?it/s]\n",
            "Plotting labels to runs/detect/train/labels.jpg... \n",
            "Image sizes 640 train, 640 val\n",
            "Using 2 dataloader workers\n",
            "Logging results to \u001b[1mruns/detect/train\u001b[0m\n",
            "Starting training for 3 epochs...\n",
            "\n",
            "      Epoch    GPU_mem   box_loss   cls_loss   dfl_loss  Instances       Size\n",
            "        1/3      2.78G      1.177      1.338       1.25        230        640: 100% 8/8 [00:06<00:00,  1.21it/s]\n",
            "                 Class     Images  Instances      Box(P          R      mAP50  mAP50-95): 100% 4/4 [00:04<00:00,  1.21s/it]\n",
            "                   all        128        929      0.631      0.549      0.614      0.455\n",
            "\n",
            "      Epoch    GPU_mem   box_loss   cls_loss   dfl_loss  Instances       Size\n",
            "        2/3      2.69G      1.131      1.405       1.24        179        640: 100% 8/8 [00:02<00:00,  3.13it/s]\n",
            "                 Class     Images  Instances      Box(P          R      mAP50  mAP50-95): 100% 4/4 [00:02<00:00,  1.51it/s]\n",
            "                   all        128        929      0.669      0.569      0.634      0.478\n",
            "\n",
            "      Epoch    GPU_mem   box_loss   cls_loss   dfl_loss  Instances       Size\n",
            "        3/3      2.84G      1.151      1.281      1.212        214        640: 100% 8/8 [00:02<00:00,  3.27it/s]\n",
            "                 Class     Images  Instances      Box(P          R      mAP50  mAP50-95): 100% 4/4 [00:09<00:00,  2.42s/it]\n",
            "                   all        128        929      0.687       0.58       0.65      0.488\n",
            "\n",
            "3 epochs completed in 0.010 hours.\n",
            "Optimizer stripped from runs/detect/train/weights/last.pt, 6.5MB\n",
            "Optimizer stripped from runs/detect/train/weights/best.pt, 6.5MB\n",
            "\n",
            "Validating runs/detect/train/weights/best.pt...\n",
            "Ultralytics YOLOv8.0.71 🚀 Python-3.9.16 torch-2.0.0+cu118 CUDA:0 (Tesla T4, 15102MiB)\n",
            "Model summary (fused): 168 layers, 3151904 parameters, 0 gradients, 8.7 GFLOPs\n",
            "                 Class     Images  Instances      Box(P          R      mAP50  mAP50-95): 100% 4/4 [00:06<00:00,  1.63s/it]\n",
            "                   all        128        929      0.689      0.578       0.65      0.486\n",
            "                person        128        254      0.763      0.673      0.769      0.544\n",
            "               bicycle        128          6          1      0.328      0.379      0.332\n",
            "                   car        128         46       0.84      0.217      0.292       0.18\n",
            "            motorcycle        128          5      0.612        0.8      0.872      0.709\n",
            "              airplane        128          6      0.766      0.833      0.894      0.694\n",
            "                   bus        128          7      0.748      0.714      0.721      0.675\n",
            "                 train        128          3      0.686          1      0.913       0.83\n",
            "                 truck        128         12      0.889        0.5      0.529      0.342\n",
            "                  boat        128          6      0.393      0.333       0.44      0.216\n",
            "         traffic light        128         14          1       0.21      0.224      0.142\n",
            "             stop sign        128          2          1      0.977      0.995      0.697\n",
            "                 bench        128          9      0.795      0.434      0.658      0.418\n",
            "                  bird        128         16      0.933      0.868      0.955      0.656\n",
            "                   cat        128          4      0.796          1      0.995      0.786\n",
            "                   dog        128          9      0.713      0.889      0.823      0.608\n",
            "                 horse        128          2      0.576          1      0.995      0.547\n",
            "              elephant        128         17      0.786      0.824      0.911      0.719\n",
            "                  bear        128          1      0.432          1      0.995      0.895\n",
            "                 zebra        128          4       0.86          1      0.995      0.935\n",
            "               giraffe        128          9      0.966          1      0.995      0.727\n",
            "              backpack        128          6      0.534      0.333      0.399      0.227\n",
            "              umbrella        128         18      0.757      0.519      0.665      0.447\n",
            "               handbag        128         19      0.939      0.105       0.25       0.14\n",
            "                   tie        128          7      0.677      0.602      0.682      0.505\n",
            "              suitcase        128          4      0.636          1      0.995      0.646\n",
            "               frisbee        128          5          1      0.789      0.799      0.689\n",
            "                  skis        128          1      0.794          1      0.995      0.497\n",
            "             snowboard        128          7      0.575      0.714      0.762       0.48\n",
            "           sports ball        128          6      0.703      0.407      0.514      0.288\n",
            "                  kite        128         10      0.645        0.4      0.506      0.206\n",
            "          baseball bat        128          4      0.436      0.404      0.253      0.125\n",
            "        baseball glove        128          7      0.786      0.429       0.43      0.303\n",
            "            skateboard        128          5      0.752        0.6        0.6      0.433\n",
            "         tennis racket        128          7      0.707      0.286      0.508      0.313\n",
            "                bottle        128         18      0.484      0.389       0.43      0.271\n",
            "            wine glass        128         16      0.471      0.562      0.584      0.327\n",
            "                   cup        128         36      0.569      0.278      0.404      0.286\n",
            "                  fork        128          6      0.529      0.167      0.207      0.192\n",
            "                 knife        128         16      0.697      0.562      0.594      0.377\n",
            "                 spoon        128         22       0.68      0.182      0.376      0.213\n",
            "                  bowl        128         28      0.623      0.679      0.653      0.536\n",
            "                banana        128          1          0          0      0.142     0.0363\n",
            "              sandwich        128          2          1          0      0.745      0.745\n",
            "                orange        128          4          1      0.457      0.849       0.56\n",
            "              broccoli        128         11      0.465      0.273      0.284      0.246\n",
            "                carrot        128         24      0.581      0.751      0.745      0.489\n",
            "               hot dog        128          2      0.654      0.961      0.828      0.763\n",
            "                 pizza        128          5      0.631          1      0.995      0.854\n",
            "                 donut        128         14      0.583          1      0.933       0.84\n",
            "                  cake        128          4      0.643          1      0.995       0.88\n",
            "                 chair        128         35        0.5      0.543      0.459      0.272\n",
            "                 couch        128          6      0.488        0.5      0.624       0.47\n",
            "          potted plant        128         14      0.645      0.714      0.747      0.542\n",
            "                   bed        128          3      0.718          1      0.995      0.798\n",
            "          dining table        128         13      0.448      0.615      0.538      0.437\n",
            "                toilet        128          2          1      0.884      0.995      0.946\n",
            "                    tv        128          2      0.548      0.644      0.828      0.762\n",
            "                laptop        128          3          1      0.563       0.72      0.639\n",
            "                 mouse        128          2          1          0     0.0623     0.0125\n",
            "                remote        128          8      0.697        0.5      0.578      0.496\n",
            "            cell phone        128          8          0          0      0.102     0.0471\n",
            "             microwave        128          3      0.651      0.667      0.863      0.738\n",
            "                  oven        128          5      0.471        0.4      0.415      0.309\n",
            "                  sink        128          6       0.45      0.284      0.268      0.159\n",
            "          refrigerator        128          5      0.679        0.4      0.695      0.537\n",
            "                  book        128         29      0.656      0.133      0.424      0.227\n",
            "                 clock        128          9      0.878      0.778      0.898      0.759\n",
            "                  vase        128          2      0.413          1      0.828      0.745\n",
            "              scissors        128          1          1          0      0.199     0.0597\n",
            "            teddy bear        128         21      0.553      0.472      0.669      0.447\n",
            "            toothbrush        128          5          1      0.518        0.8      0.521\n",
            "Speed: 2.7ms preprocess, 3.5ms inference, 0.0ms loss, 3.2ms postprocess per image\n",
            "Results saved to \u001b[1mruns/detect/train\u001b[0m\n"
          ]
        }
      ],
      "source": [
        "# Train YOLOv8n on COCO128 for 3 epochs\n",
        "!yolo train model=yolov8n.pt data=coco128.yaml epochs=3 imgsz=640"
      ]
    },
    {
      "cell_type": "markdown",
      "metadata": {
        "id": "nPZZeNrLCQG6"
      },
      "source": [
        "# 4. Export\n",
        "\n",
        "Export a YOLOv8 model to any supported format below with the `format` argument, i.e. `format=onnx`. See [YOLOv8 Export Docs](https://docs.ultralytics.com/modes/export/) for more information.\n",
        "\n",
        "- 💡 ProTip: Export to [ONNX](https://onnx.ai/) or [OpenVINO](https://docs.openvino.ai/latest/index.html) for up to 3x CPU speedup.\n",
        "- 💡 ProTip: Export to [TensorRT](https://developer.nvidia.com/tensorrt) for up to 5x GPU speedup.\n",
        "\n",
        "\n",
        "| Format                                                                     | `format=`          | Model                     |\n",
        "|----------------------------------------------------------------------------|--------------------|---------------------------|\n",
        "| [PyTorch](https://pytorch.org/)                                            | -                  | `yolov8n.pt`              |\n",
        "| [TorchScript](https://pytorch.org/docs/stable/jit.html)                    | `torchscript`      | `yolov8n.torchscript`     |\n",
        "| [ONNX](https://onnx.ai/)                                                   | `onnx`             | `yolov8n.onnx`            |\n",
        "| [OpenVINO](https://docs.openvino.ai/latest/index.html)                     | `openvino`         | `yolov8n_openvino_model/` |\n",
        "| [TensorRT](https://developer.nvidia.com/tensorrt)                          | `engine`           | `yolov8n.engine`          |\n",
        "| [CoreML](https://github.com/apple/coremltools)                             | `coreml`           | `yolov8n.mlmodel`         |\n",
        "| [TensorFlow SavedModel](https://www.tensorflow.org/guide/saved_model)      | `saved_model`      | `yolov8n_saved_model/`    |\n",
        "| [TensorFlow GraphDef](https://www.tensorflow.org/api_docs/python/tf/Graph) | `pb`               | `yolov8n.pb`              |\n",
        "| [TensorFlow Lite](https://www.tensorflow.org/lite)                         | `tflite`           | `yolov8n.tflite`          |\n",
        "| [TensorFlow Edge TPU](https://coral.ai/docs/edgetpu/models-intro/)         | `edgetpu`          | `yolov8n_edgetpu.tflite`  |\n",
        "| [TensorFlow.js](https://www.tensorflow.org/js)                             | `tfjs`             | `yolov8n_web_model/`      |\n",
        "| [PaddlePaddle](https://github.com/PaddlePaddle)                            | `paddle`           | `yolov8n_paddle_model/`   |\n",
        "\n"
      ]
    },
    {
      "cell_type": "code",
      "execution_count": null,
      "metadata": {
        "colab": {
          "base_uri": "https://localhost:8080/"
        },
        "id": "CYIjW4igCjqD",
        "outputId": "fc41bf7a-0ea2-41a6-9ec5-dd0455af43bc"
      },
      "outputs": [
        {
          "name": "stdout",
          "output_type": "stream",
          "text": [
            "Ultralytics YOLOv8.0.71 🚀 Python-3.9.16 torch-2.0.0+cu118 CPU\n",
            "YOLOv8n summary (fused): 168 layers, 3151904 parameters, 0 gradients, 8.7 GFLOPs\n",
            "\n",
            "\u001b[34m\u001b[1mPyTorch:\u001b[0m starting from yolov8n.pt with input shape (1, 3, 640, 640) BCHW and output shape(s) (1, 84, 8400) (6.2 MB)\n",
            "\n",
            "\u001b[34m\u001b[1mTorchScript:\u001b[0m starting export with torch 2.0.0+cu118...\n",
            "\u001b[34m\u001b[1mTorchScript:\u001b[0m export success ✅ 2.3s, saved as yolov8n.torchscript (12.4 MB)\n",
            "\n",
            "Export complete (3.1s)\n",
            "Results saved to \u001b[1m/content\u001b[0m\n",
            "Predict:         yolo predict task=detect model=yolov8n.torchscript imgsz=640 \n",
            "Validate:        yolo val task=detect model=yolov8n.torchscript imgsz=640 data=coco.yaml \n",
            "Visualize:       https://netron.app\n"
          ]
        }
      ],
      "source": [
        "!yolo export model=yolov8n.pt format=torchscript"
      ]
    },
    {
      "cell_type": "markdown",
      "metadata": {
        "id": "kUMOQ0OeDBJG"
      },
      "source": [
        "# 5. Python Usage\n",
        "\n",
        "YOLOv8 was reimagined using Python-first principles for the most seamless Python YOLO experience yet. YOLOv8 models can be loaded from a trained checkpoint or created from scratch. Then methods are used to train, val, predict, and export the model. See detailed Python usage examples in the [YOLOv8 Python Docs](https://docs.ultralytics.com/usage/python/)."
      ]
    },
    {
      "cell_type": "code",
      "execution_count": null,
      "metadata": {
        "id": "bpF9-vS_DAaf"
      },
      "outputs": [],
      "source": [
        "from ultralytics import YOLO\n",
        "\n",
        "# Load a model\n",
        "model = YOLO('yolov8n.yaml')  # build a new model from scratch\n",
        "model = YOLO('yolov8n.pt')  # load a pretrained model (recommended for training)\n",
        "\n",
        "# Use the model\n",
        "results = model.train(data='coco128.yaml', epochs=3)  # train the model\n",
        "results = model.val()  # evaluate model performance on the validation set\n",
        "results = model('https://ultralytics.com/images/bus.jpg')  # predict on an image\n",
        "success = model.export(format='onnx')  # export the model to ONNX format"
      ]
    },
    {
      "cell_type": "markdown",
      "metadata": {
        "id": "Phm9ccmOKye5"
      },
      "source": [
        "# 6. Tasks\n",
        "\n",
        "YOLOv8 can train, val, predict and export models for the most common tasks in vision AI: [Detect](https://docs.ultralytics.com/tasks/detect/), [Segment](https://docs.ultralytics.com/tasks/segment/), [Classify](https://docs.ultralytics.com/tasks/classify/) and [Pose](https://docs.ultralytics.com/tasks/pose/). See [YOLOv8 Tasks Docs](https://docs.ultralytics.com/tasks/) for more information.\n",
        "\n",
        "<br><img width=\"1024\" src=\"https://raw.githubusercontent.com/ultralytics/assets/tasks/im/banner-tasks.png\">\n"
      ]
    },
    {
      "cell_type": "markdown",
      "metadata": {
        "id": "yq26lwpYK1lq"
      },
      "source": [
        "## 1. Detection\n",
        "\n",
        "YOLOv8 _detection_ models have no suffix and are the default YOLOv8 models, i.e. `yolov8n.pt` and are pretrained on COCO. See [Detection Docs](https://docs.ultralytics.com/tasks/detect/) for full details.\n"
      ]
    },
    {
      "cell_type": "code",
      "execution_count": null,
      "metadata": {
        "id": "8Go5qqS9LbC5"
      },
      "outputs": [],
      "source": [
        "# Load YOLOv8n, train it on COCO128 for 3 epochs and predict an image with it\n",
        "from ultralytics import YOLO\n",
        "\n",
        "model = YOLO('yolov8n.pt')  # load a pretrained YOLOv8n detection model\n",
        "model.train(data='coco128.yaml', epochs=3)  # train the model\n",
        "model('https://ultralytics.com/images/bus.jpg')  # predict on an image"
      ]
    },
    {
      "cell_type": "markdown",
      "metadata": {
        "id": "7ZW58jUzK66B"
      },
      "source": [
        "## 2. Segmentation\n",
        "\n",
        "YOLOv8 _segmentation_ models use the `-seg` suffix, i.e. `yolov8n-seg.pt` and are pretrained on COCO. See [Segmentation Docs](https://docs.ultralytics.com/tasks/segment/) for full details.\n"
      ]
    },
    {
      "cell_type": "code",
      "execution_count": null,
      "metadata": {
        "id": "WFPJIQl_L5HT"
      },
      "outputs": [],
      "source": [
        "# Load YOLOv8n-seg, train it on COCO128-seg for 3 epochs and predict an image with it\n",
        "from ultralytics import YOLO\n",
        "\n",
        "model = YOLO('yolov8n-seg.pt')  # load a pretrained YOLOv8n segmentation model\n",
        "model.train(data='coco128-seg.yaml', epochs=3)  # train the model\n",
        "model('https://ultralytics.com/images/bus.jpg')  # predict on an image"
      ]
    },
    {
      "cell_type": "markdown",
      "metadata": {
        "id": "ax3p94VNK9zR"
      },
      "source": [
        "## 3. Classification\n",
        "\n",
        "YOLOv8 _classification_ models use the `-cls` suffix, i.e. `yolov8n-cls.pt` and are pretrained on ImageNet. See [Classification Docs](https://docs.ultralytics.com/tasks/classify/) for full details.\n"
      ]
    },
    {
      "cell_type": "code",
      "execution_count": null,
      "metadata": {
        "id": "5q9Zu6zlL5rS"
      },
      "outputs": [],
      "source": [
        "# Load YOLOv8n-cls, train it on mnist160 for 3 epochs and predict an image with it\n",
        "from ultralytics import YOLO\n",
        "\n",
        "model = YOLO('yolov8n-cls.pt')  # load a pretrained YOLOv8n classification model\n",
        "model.train(data='mnist160', epochs=3)  # train the model\n",
        "model('https://ultralytics.com/images/bus.jpg')  # predict on an image"
      ]
    },
    {
      "cell_type": "markdown",
      "metadata": {
        "id": "SpIaFLiO11TG"
      },
      "source": [
        "## 4. Pose\n",
        "\n",
        "YOLOv8 _pose_ models use the `-pose` suffix, i.e. `yolov8n-pose.pt` and are pretrained on COCO Keypoints. See [Pose Docs](https://docs.ultralytics.com/tasks/pose/) for full details."
      ]
    },
    {
      "cell_type": "code",
      "execution_count": null,
      "metadata": {
        "id": "si4aKFNg19vX"
      },
      "outputs": [],
      "source": [
        "# Load YOLOv8n-pose, train it on COCO8-pose for 3 epochs and predict an image with it\n",
        "from ultralytics import YOLO\n",
        "\n",
        "model = YOLO('yolov8n-pose.pt')  # load a pretrained YOLOv8n classification model\n",
        "model.train(data='coco8-pose.yaml', epochs=3)  # train the model\n",
        "model('https://ultralytics.com/images/bus.jpg')  # predict on an image"
      ]
    },
    {
      "cell_type": "markdown",
      "metadata": {
        "id": "IEijrePND_2I"
      },
      "source": [
        "# Appendix\n",
        "\n",
        "Additional content below."
      ]
    },
    {
      "cell_type": "code",
      "execution_count": null,
      "metadata": {
        "id": "uRKlwxSJdhd1"
      },
      "outputs": [],
      "source": [
        "# Git clone and run tests on updates branch\n",
        "!git clone https://github.com/ultralytics/ultralytics -b updates\n",
        "%pip install -qe ultralytics\n",
        "!pytest ultralytics/tests"
      ]
    },
    {
      "cell_type": "code",
      "execution_count": null,
      "metadata": {
        "id": "Wdc6t_bfzDDk"
      },
      "outputs": [],
      "source": [
        "# Validate multiple models\n",
        "for x in 'nsmlx':\n",
        "  !yolo val model=yolov8{x}.pt data=coco.yaml"
      ]
    }
  ],
  "metadata": {
    "accelerator": "GPU",
    "colab": {
      "provenance": []
    },
    "kernelspec": {
      "display_name": "Python 3",
      "name": "python3"
    }
  },
  "nbformat": 4,
  "nbformat_minor": 0
}